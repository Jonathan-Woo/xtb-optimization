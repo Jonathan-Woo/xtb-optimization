{
 "cells": [
  {
   "cell_type": "markdown",
   "metadata": {},
   "source": [
    "# Data Processing"
   ]
  },
  {
   "cell_type": "code",
   "execution_count": 1,
   "metadata": {},
   "outputs": [],
   "source": [
    "from pathlib import Path\n",
    "import pandas as pd\n",
    "import re\n",
    "from tqdm import tqdm\n",
    "import matplotlib.pyplot as plt\n",
    "import numpy as np\n",
    "import json\n",
    "\n",
    "from processing_utils import xyz_to_df, pairwise_distance, average_abs_dist, xyz_to_np\n",
    "\n",
    "HARTREE_TO_KCAL_MOL = 627.509"
   ]
  },
  {
   "cell_type": "code",
   "execution_count": 2,
   "metadata": {},
   "outputs": [],
   "source": [
    "experiments_path = Path(\"experiments\")\n",
    "processed_results_path = Path(\"processed_results\")\n",
    "molecules_path = Path(\"uniques_100_molecules_42_seed\")"
   ]
  },
  {
   "cell_type": "markdown",
   "metadata": {},
   "source": [
    "## Parse Results"
   ]
  },
  {
   "cell_type": "markdown",
   "metadata": {},
   "source": [
    "### Parse Experiment Results from xtb Output Files"
   ]
  },
  {
   "cell_type": "code",
   "execution_count": 3,
   "metadata": {},
   "outputs": [
    {
     "name": "stderr",
     "output_type": "stream",
     "text": [
      "  0%|          | 0/24 [00:00<?, ?it/s]"
     ]
    },
    {
     "name": "stdout",
     "output_type": "stream",
     "text": [
      "Skipped 9 / 99 molecules in kexplight with parameter 1.2 and value 1.2.\n",
      "Skipped 11 / 99 molecules in kexplight with parameter 1.1 and value 1.1.\n",
      "Skipped 6 / 99 molecules in kexplight with parameter 1.0 and value 1.0.\n",
      "Skipped 6 / 99 molecules in kexplight with parameter 0.9 and value 0.9.\n"
     ]
    },
    {
     "name": "stderr",
     "output_type": "stream",
     "text": [
      "  4%|▍         | 1/24 [00:02<00:46,  2.03s/it]"
     ]
    },
    {
     "name": "stdout",
     "output_type": "stream",
     "text": [
      "Skipped 8 / 99 molecules in kexplight with parameter 0.8 and value 0.8.\n",
      "Skipped 9 / 99 molecules in gam3p with parameter 0.8 and value 0.4.\n",
      "Skipped 10 / 99 molecules in gam3p with parameter 1.1 and value 0.55.\n",
      "Skipped 13 / 99 molecules in gam3p with parameter 1.2 and value 0.6.\n",
      "Skipped 11 / 99 molecules in gam3p with parameter 0.9 and value 0.45.\n"
     ]
    },
    {
     "name": "stderr",
     "output_type": "stream",
     "text": [
      "  8%|▊         | 2/24 [00:03<00:43,  1.96s/it]"
     ]
    },
    {
     "name": "stdout",
     "output_type": "stream",
     "text": [
      "Skipped 9 / 99 molecules in gam3p with parameter 1.0 and value 0.5.\n",
      "Skipped 11 / 99 molecules in ksd with parameter 0.9 and value 1.8.\n",
      "Skipped 9 / 99 molecules in ksd with parameter 0.8 and value 1.6.\n",
      "Skipped 12 / 99 molecules in ksd with parameter 1.2 and value 2.4.\n",
      "Skipped 15 / 99 molecules in ksd with parameter 1.1 and value 2.2.\n"
     ]
    },
    {
     "name": "stderr",
     "output_type": "stream",
     "text": [
      " 12%|█▎        | 3/24 [00:05<00:40,  1.94s/it]"
     ]
    },
    {
     "name": "stdout",
     "output_type": "stream",
     "text": [
      "Skipped 14 / 99 molecules in ksd with parameter 1.0 and value 2.0.\n",
      "Skipped 12 / 99 molecules in kd with parameter 1.1 and value 2.453.\n",
      "Skipped 10 / 99 molecules in kd with parameter 0.9 and value 2.007.\n",
      "Skipped 11 / 99 molecules in kd with parameter 1.2 and value 2.676.\n",
      "Skipped 10 / 99 molecules in kd with parameter 1.0 and value 2.23.\n"
     ]
    },
    {
     "name": "stderr",
     "output_type": "stream",
     "text": [
      " 17%|█▋        | 4/24 [00:07<00:39,  1.97s/it]"
     ]
    },
    {
     "name": "stdout",
     "output_type": "stream",
     "text": [
      "Skipped 9 / 99 molecules in kd with parameter 0.8 and value 1.784.\n",
      "Skipped 9 / 99 molecules in kpd with parameter 0.9 and value 1.8.\n",
      "Skipped 11 / 99 molecules in kpd with parameter 0.8 and value 1.6.\n",
      "Skipped 10 / 99 molecules in kpd with parameter 1.2 and value 2.4.\n",
      "Skipped 8 / 99 molecules in kpd with parameter 1.1 and value 2.2.\n"
     ]
    },
    {
     "name": "stderr",
     "output_type": "stream",
     "text": [
      " 21%|██        | 5/24 [00:09<00:38,  2.02s/it]"
     ]
    },
    {
     "name": "stdout",
     "output_type": "stream",
     "text": [
      "Skipped 11 / 99 molecules in kpd with parameter 1.0 and value 2.0.\n",
      "Skipped 15 / 99 molecules in a2 with parameter 1.1 and value 5.5.\n",
      "Skipped 11 / 99 molecules in a2 with parameter 0.9 and value 4.5.\n",
      "Skipped 13 / 99 molecules in a2 with parameter 1.0 and value 5.0.\n",
      "Skipped 5 / 99 molecules in a2 with parameter 0.8 and value 4.0.\n"
     ]
    },
    {
     "name": "stderr",
     "output_type": "stream",
     "text": [
      " 25%|██▌       | 6/24 [00:11<00:36,  2.01s/it]"
     ]
    },
    {
     "name": "stdout",
     "output_type": "stream",
     "text": [
      "Skipped 8 / 99 molecules in a2 with parameter 1.2 and value 6.0.\n",
      "Skipped 6 / 99 molecules in kdiff with parameter 0.9 and value 1.8.\n",
      "Skipped 6 / 99 molecules in kdiff with parameter 0.8 and value 1.6.\n",
      "Skipped 6 / 99 molecules in kdiff with parameter 1.2 and value 2.4.\n",
      "Skipped 6 / 99 molecules in kdiff with parameter 1.1 and value 2.2.\n"
     ]
    },
    {
     "name": "stderr",
     "output_type": "stream",
     "text": [
      " 29%|██▉       | 7/24 [00:13<00:34,  2.00s/it]"
     ]
    },
    {
     "name": "stdout",
     "output_type": "stream",
     "text": [
      "Skipped 6 / 99 molecules in kdiff with parameter 1.0 and value 2.0.\n",
      "Skipped 8 / 99 molecules in gam3d1 with parameter 1.1 and value 0.275.\n",
      "Skipped 6 / 99 molecules in gam3d1 with parameter 1.0 and value 0.25.\n",
      "Skipped 8 / 99 molecules in gam3d1 with parameter 0.8 and value 0.2.\n",
      "Skipped 9 / 99 molecules in gam3d1 with parameter 0.9 and value 0.225.\n"
     ]
    },
    {
     "name": "stderr",
     "output_type": "stream",
     "text": [
      " 33%|███▎      | 8/24 [00:16<00:32,  2.02s/it]"
     ]
    },
    {
     "name": "stdout",
     "output_type": "stream",
     "text": [
      "Skipped 7 / 99 molecules in gam3d1 with parameter 1.2 and value 0.3.\n",
      "Skipped 5 / 99 molecules in kp with parameter 1.1 and value 2.453.\n",
      "Skipped 39 / 99 molecules in kp with parameter 0.9 and value 2.007.\n",
      "Skipped 45 / 99 molecules in kp with parameter 1.2 and value 2.676.\n",
      "Skipped 54 / 99 molecules in kp with parameter 1.0 and value 2.23.\n"
     ]
    },
    {
     "name": "stderr",
     "output_type": "stream",
     "text": [
      " 38%|███▊      | 9/24 [00:17<00:28,  1.88s/it]"
     ]
    },
    {
     "name": "stdout",
     "output_type": "stream",
     "text": [
      "Skipped 60 / 99 molecules in kp with parameter 0.8 and value 1.784.\n",
      "Skipped 47 / 99 molecules in alphaj with parameter 0.9 and value 1.8.\n",
      "Skipped 54 / 99 molecules in alphaj with parameter 0.8 and value 1.6.\n",
      "Skipped 56 / 99 molecules in alphaj with parameter 1.2 and value 2.4.\n",
      "Skipped 58 / 99 molecules in alphaj with parameter 1.1 and value 2.2.\n"
     ]
    },
    {
     "name": "stderr",
     "output_type": "stream",
     "text": [
      " 42%|████▏     | 10/24 [00:19<00:24,  1.77s/it]"
     ]
    },
    {
     "name": "stdout",
     "output_type": "stream",
     "text": [
      "Skipped 49 / 99 molecules in alphaj with parameter 1.0 and value 2.0.\n",
      "Skipped 45 / 99 molecules in s8 with parameter 1.2 and value 3.24.\n",
      "Skipped 19 / 99 molecules in s8 with parameter 0.8 and value 2.16.\n",
      "Skipped 22 / 99 molecules in s8 with parameter 0.9 and value 2.43.\n",
      "Skipped 10 / 99 molecules in s8 with parameter 1.1 and value 2.97.\n"
     ]
    },
    {
     "name": "stderr",
     "output_type": "stream",
     "text": [
      " 46%|████▌     | 11/24 [00:20<00:23,  1.80s/it]"
     ]
    },
    {
     "name": "stdout",
     "output_type": "stream",
     "text": [
      "Skipped 25 / 99 molecules in s8 with parameter 1.0 and value 2.7.\n",
      "Skipped 8 / 99 molecules in aesshift with parameter 1.0 and value 1.2.\n",
      "Skipped 9 / 99 molecules in aesshift with parameter 1.2 and value 1.44.\n",
      "Skipped 13 / 99 molecules in aesshift with parameter 0.9 and value 1.08.\n",
      "Skipped 5 / 99 molecules in aesshift with parameter 0.8 and value 0.96.\n"
     ]
    },
    {
     "name": "stderr",
     "output_type": "stream",
     "text": [
      " 50%|█████     | 12/24 [00:23<00:22,  1.88s/it]"
     ]
    },
    {
     "name": "stdout",
     "output_type": "stream",
     "text": [
      "Skipped 8 / 99 molecules in aesshift with parameter 1.1 and value 1.32.\n",
      "Skipped 6 / 99 molecules in s9 with parameter 1.1 and value 5.5.\n",
      "Skipped 5 / 99 molecules in s9 with parameter 0.9 and value 4.5.\n",
      "Skipped 4 / 99 molecules in s9 with parameter 1.0 and value 5.0.\n",
      "Skipped 5 / 99 molecules in s9 with parameter 0.8 and value 4.0.\n"
     ]
    },
    {
     "name": "stderr",
     "output_type": "stream",
     "text": [
      " 54%|█████▍    | 13/24 [00:25<00:22,  2.00s/it]"
     ]
    },
    {
     "name": "stdout",
     "output_type": "stream",
     "text": [
      "Skipped 6 / 99 molecules in s9 with parameter 1.2 and value 6.0.\n",
      "Skipped 10 / 99 molecules in gam3s with parameter 1.2 and value 1.2.\n",
      "Skipped 13 / 99 molecules in gam3s with parameter 1.1 and value 1.1.\n",
      "Skipped 6 / 99 molecules in gam3s with parameter 1.0 and value 1.0.\n",
      "Skipped 11 / 99 molecules in gam3s with parameter 0.9 and value 0.9.\n"
     ]
    },
    {
     "name": "stderr",
     "output_type": "stream",
     "text": [
      " 58%|█████▊    | 14/24 [00:27<00:21,  2.11s/it]"
     ]
    },
    {
     "name": "stdout",
     "output_type": "stream",
     "text": [
      "Skipped 15 / 99 molecules in gam3s with parameter 0.8 and value 0.8.\n",
      "Skipped 12 / 99 molecules in gam3d2 with parameter 1.1 and value 0.275.\n",
      "Skipped 13 / 99 molecules in gam3d2 with parameter 1.0 and value 0.25.\n",
      "Skipped 12 / 99 molecules in gam3d2 with parameter 0.8 and value 0.2.\n",
      "Skipped 11 / 99 molecules in gam3d2 with parameter 0.9 and value 0.225.\n"
     ]
    },
    {
     "name": "stderr",
     "output_type": "stream",
     "text": [
      " 62%|██████▎   | 15/24 [00:29<00:19,  2.14s/it]"
     ]
    },
    {
     "name": "stdout",
     "output_type": "stream",
     "text": [
      "Skipped 12 / 99 molecules in gam3d2 with parameter 1.2 and value 0.3.\n",
      "Skipped 13 / 99 molecules in enscale with parameter 0.9 and value 1.8.\n",
      "Skipped 9 / 99 molecules in enscale with parameter 0.8 and value 1.6.\n",
      "Skipped 13 / 99 molecules in enscale with parameter 1.2 and value 2.4.\n",
      "Skipped 12 / 99 molecules in enscale with parameter 1.1 and value 2.2.\n"
     ]
    },
    {
     "name": "stderr",
     "output_type": "stream",
     "text": [
      " 67%|██████▋   | 16/24 [00:32<00:17,  2.16s/it]"
     ]
    },
    {
     "name": "stdout",
     "output_type": "stream",
     "text": [
      "Skipped 11 / 99 molecules in enscale with parameter 1.0 and value 2.0.\n",
      "Skipped 21 / 99 molecules in ks with parameter 1.2 and value 2.22.\n",
      "Skipped 14 / 99 molecules in ks with parameter 0.9 and value 1.665.\n",
      "Skipped 16 / 99 molecules in ks with parameter 1.0 and value 1.85.\n",
      "Skipped 10 / 99 molecules in ks with parameter 0.8 and value 1.48.\n"
     ]
    },
    {
     "name": "stderr",
     "output_type": "stream",
     "text": [
      " 71%|███████   | 17/24 [00:34<00:15,  2.19s/it]"
     ]
    },
    {
     "name": "stdout",
     "output_type": "stream",
     "text": [
      "Skipped 16 / 99 molecules in ks with parameter 1.1 and value 2.035.\n",
      "Skipped 11 / 99 molecules in kexp with parameter 1.0 and value 1.5.\n",
      "Skipped 11 / 99 molecules in kexp with parameter 1.1 and value 1.65.\n",
      "Skipped 33 / 99 molecules in kexp with parameter 0.8 and value 1.2.\n",
      "Skipped 15 / 99 molecules in kexp with parameter 1.2 and value 1.8.\n"
     ]
    },
    {
     "name": "stderr",
     "output_type": "stream",
     "text": [
      " 75%|███████▌  | 18/24 [00:36<00:13,  2.28s/it]"
     ]
    },
    {
     "name": "stdout",
     "output_type": "stream",
     "text": [
      "Skipped 21 / 99 molecules in kexp with parameter 0.9 and value 1.35.\n",
      "Skipped 16 / 99 molecules in a1 with parameter 0.9 and value 0.468.\n",
      "Skipped 9 / 99 molecules in a1 with parameter 0.8 and value 0.416.\n",
      "Skipped 16 / 99 molecules in a1 with parameter 1.1 and value 0.572.\n",
      "Skipped 11 / 99 molecules in a1 with parameter 1.0 and value 0.52.\n"
     ]
    },
    {
     "name": "stderr",
     "output_type": "stream",
     "text": [
      " 79%|███████▉  | 19/24 [00:39<00:11,  2.39s/it]"
     ]
    },
    {
     "name": "stdout",
     "output_type": "stream",
     "text": [
      "Skipped 13 / 99 molecules in a1 with parameter 1.2 and value 0.624.\n",
      "Skipped 11 / 99 molecules in aesrmax with parameter 1.1 and value 5.5.\n",
      "Skipped 13 / 99 molecules in aesrmax with parameter 0.9 and value 4.5.\n",
      "Skipped 11 / 99 molecules in aesrmax with parameter 1.0 and value 5.0.\n",
      "Skipped 12 / 99 molecules in aesrmax with parameter 0.8 and value 4.0.\n"
     ]
    },
    {
     "name": "stderr",
     "output_type": "stream",
     "text": [
      " 83%|████████▎ | 20/24 [00:42<00:09,  2.48s/it]"
     ]
    },
    {
     "name": "stdout",
     "output_type": "stream",
     "text": [
      "Skipped 13 / 99 molecules in aesrmax with parameter 1.2 and value 6.0.\n",
      "Skipped 11 / 99 molecules in aesdmp3 with parameter 1.2 and value 3.6.\n",
      "Skipped 14 / 99 molecules in aesdmp3 with parameter 1.0 and value 3.0.\n",
      "Skipped 13 / 99 molecules in aesdmp3 with parameter 0.9 and value 2.7.\n",
      "Skipped 12 / 99 molecules in aesdmp3 with parameter 1.1 and value 3.3.\n"
     ]
    },
    {
     "name": "stderr",
     "output_type": "stream",
     "text": [
      " 88%|████████▊ | 21/24 [00:44<00:07,  2.44s/it]"
     ]
    },
    {
     "name": "stdout",
     "output_type": "stream",
     "text": [
      "Skipped 16 / 99 molecules in aesdmp3 with parameter 0.8 and value 2.4.\n",
      "Skipped 14 / 99 molecules in ipeashift with parameter 1.0 and value 1.78069.\n",
      "Skipped 16 / 99 molecules in ipeashift with parameter 0.8 and value 1.424552.\n",
      "Skipped 13 / 99 molecules in ipeashift with parameter 1.2 and value 2.136828.\n",
      "Skipped 11 / 99 molecules in ipeashift with parameter 1.1 and value 1.958759.\n"
     ]
    },
    {
     "name": "stderr",
     "output_type": "stream",
     "text": [
      " 92%|█████████▏| 22/24 [00:46<00:04,  2.42s/it]"
     ]
    },
    {
     "name": "stdout",
     "output_type": "stream",
     "text": [
      "Skipped 12 / 99 molecules in ipeashift with parameter 0.9 and value 1.602621.\n",
      "Skipped 15 / 99 molecules in aesdmp5 with parameter 0.8 and value 3.2.\n",
      "Skipped 12 / 99 molecules in aesdmp5 with parameter 1.2 and value 4.8.\n",
      "Skipped 11 / 99 molecules in aesdmp5 with parameter 1.0 and value 4.0.\n",
      "Skipped 14 / 99 molecules in aesdmp5 with parameter 0.9 and value 3.6.\n"
     ]
    },
    {
     "name": "stderr",
     "output_type": "stream",
     "text": [
      " 96%|█████████▌| 23/24 [00:49<00:02,  2.37s/it]"
     ]
    },
    {
     "name": "stdout",
     "output_type": "stream",
     "text": [
      "Skipped 13 / 99 molecules in aesdmp5 with parameter 1.1 and value 4.4.\n",
      "Skipped 13 / 99 molecules in aesexp with parameter 0.8 and value 3.2.\n",
      "Skipped 12 / 99 molecules in aesexp with parameter 1.2 and value 4.8.\n",
      "Skipped 11 / 99 molecules in aesexp with parameter 1.0 and value 4.0.\n",
      "Skipped 12 / 99 molecules in aesexp with parameter 0.9 and value 3.6.\n"
     ]
    },
    {
     "name": "stderr",
     "output_type": "stream",
     "text": [
      "100%|██████████| 24/24 [00:51<00:00,  2.14s/it]"
     ]
    },
    {
     "name": "stdout",
     "output_type": "stream",
     "text": [
      "Skipped 12 / 99 molecules in aesexp with parameter 1.1 and value 4.4.\n"
     ]
    },
    {
     "name": "stderr",
     "output_type": "stream",
     "text": [
      "\n"
     ]
    }
   ],
   "source": [
    "results_df = pd.DataFrame(\n",
    "    columns=[\n",
    "        \"molecule\",\n",
    "        \"parameter\",\n",
    "        \"factor\",\n",
    "        \"parameter value\",\n",
    "        \"atomisation energy (Hartrees)\",\n",
    "        \"atomisation energy (kcal/mol)\",\n",
    "        \"total energy (Hartrees)\",\n",
    "        \"total energy (kcal/mol)\",\n",
    "        \"pairwise distance\",\n",
    "        \"atoms\",\n",
    "    ]\n",
    ")\n",
    "\n",
    "for parameter_path in tqdm(\n",
    "    experiments_path.glob(\"*\"), total=len(list(experiments_path.glob(\"*\")))\n",
    "):\n",
    "    for run_path in parameter_path.glob(\"*\"):\n",
    "        parameter_factor, parameter_value = run_path.name.split(\"_\")\n",
    "        num_skipped = 0\n",
    "        for molecule in run_path.glob(\"*\"):\n",
    "            if not molecule.is_dir():\n",
    "                continue\n",
    "\n",
    "            # Atomisation energy\n",
    "            with open(molecule / \"stdout.txt\") as f:\n",
    "                output_file = f.readlines()\n",
    "            total_energy, atomisation_energy = None, None\n",
    "            for line in output_file:\n",
    "                if total_energy is not None and atomisation_energy is not None:\n",
    "                    break\n",
    "                elif \"total energy\" in line:\n",
    "                    total_energy = float(re.sub(r\"[^\\d.]\", \"\", line))\n",
    "                elif \"atomisation energy\" in line:\n",
    "                    atomisation_energy = float(re.sub(r\"[^\\d.]\", \"\", line))\n",
    "\n",
    "            # Geometry\n",
    "            pairwise_distances_arr = None\n",
    "            if (molecule / \"xtbopt.xyz\").exists():\n",
    "                geometry_arr, atoms = xyz_to_np(molecule / \"xtbopt.xyz\")\n",
    "                pairwise_distances_arr = pairwise_distance(geometry_arr)\n",
    "\n",
    "            if (\n",
    "                atomisation_energy is None\n",
    "                or total_energy is None\n",
    "                or pairwise_distances_arr is None\n",
    "            ):\n",
    "                num_skipped += 1\n",
    "                continue\n",
    "\n",
    "            results_df.loc[len(results_df)] = [\n",
    "                molecule.name,\n",
    "                parameter_path.name,\n",
    "                parameter_factor,\n",
    "                parameter_value,\n",
    "                atomisation_energy,\n",
    "                atomisation_energy * HARTREE_TO_KCAL_MOL,\n",
    "                total_energy,\n",
    "                total_energy * HARTREE_TO_KCAL_MOL,\n",
    "                json.dumps(pairwise_distances_arr.tolist()),\n",
    "                atoms,\n",
    "            ]\n",
    "        print(\n",
    "            f\"Skipped {num_skipped} / {len(list(run_path.glob('*')))} molecules in {parameter_path.name} with parameter {parameter_factor} and value {parameter_value}.\"\n",
    "        )"
   ]
  },
  {
   "cell_type": "code",
   "execution_count": 4,
   "metadata": {},
   "outputs": [],
   "source": [
    "# to pickle\n",
    "results_df.to_csv(processed_results_path / \"parsed_results.csv\", index=False)"
   ]
  },
  {
   "cell_type": "markdown",
   "metadata": {},
   "source": [
    "### Add VQM24 Reference"
   ]
  },
  {
   "cell_type": "code",
   "execution_count": 5,
   "metadata": {},
   "outputs": [],
   "source": [
    "results_df = pd.read_csv(processed_results_path / \"parsed_results.csv\")\n",
    "\n",
    "results_df[\"pairwise distance\"] = results_df[\"pairwise distance\"].apply(lambda x: np.array(json.loads(x)))\n",
    "\n",
    "reference_data = np.load(\"reference_data/DFT_uniques.npz\", allow_pickle=True)"
   ]
  },
  {
   "cell_type": "code",
   "execution_count": 6,
   "metadata": {},
   "outputs": [
    {
     "name": "stderr",
     "output_type": "stream",
     "text": [
      "Adding VQM24 data: 100%|██████████| 96/96 [00:18<00:00,  5.10it/s]\n"
     ]
    }
   ],
   "source": [
    "results_df[\"VQM24 atomisation energy (Hartrees)\"] = None\n",
    "results_df[\"VQM24 atomisation energy (kcal/mol)\"] = None\n",
    "results_df[\"VQM24 total energy (Hartrees)\"] = None\n",
    "results_df[\"VQM24 total energy (kcal/mol)\"] = None\n",
    "\n",
    "results_df[\"VQM24 pairwise distance\"] = None\n",
    "\n",
    "for molecule in tqdm(\n",
    "    results_df[\"molecule\"].unique(),\n",
    "    total=len(results_df[\"molecule\"].unique()),\n",
    "    desc=\"Adding VQM24 data\",\n",
    "):\n",
    "    # reference compounds use SMIELS_num/conformer_num\n",
    "    # results compounds use SMIELS_num_conformer_num\n",
    "    vqm24_molecule = molecule.replace(\"_\", \"/\", 2)\n",
    "    vqm24_molecule = vqm24_molecule.replace(\"/\", \"_\", 1)\n",
    "\n",
    "    reference_index = np.where(reference_data[\"compounds\"] == vqm24_molecule)\n",
    "\n",
    "    # VQM24 energies are flipped\n",
    "    reference_atomization_energy = -reference_data[\"Eatomization\"][\n",
    "        reference_index\n",
    "    ].item()\n",
    "    reference_total_energy = -reference_data[\"Etot\"][reference_index].item()\n",
    "\n",
    "    results_df.loc[\n",
    "        results_df[\"molecule\"] == molecule, \"VQM24 atomisation energy (Hartrees)\"\n",
    "    ] = reference_atomization_energy\n",
    "    results_df.loc[\n",
    "        results_df[\"molecule\"] == molecule, \"VQM24 atomisation energy (kcal/mol)\"\n",
    "    ] = (reference_atomization_energy * HARTREE_TO_KCAL_MOL)\n",
    "\n",
    "    results_df.loc[\n",
    "        results_df[\"molecule\"] == molecule, \"VQM24 total energy (Hartrees)\"\n",
    "    ] = (reference_total_energy / HARTREE_TO_KCAL_MOL)\n",
    "    results_df.loc[\n",
    "        results_df[\"molecule\"] == molecule, \"VQM24 total energy (kcal/mol)\"\n",
    "    ] = reference_total_energy\n",
    "\n",
    "    # Geometries\n",
    "    xyz_df = molecules_path / f\"{molecule}.xyz\"\n",
    "    pairwise_distances_arr = pairwise_distance(xyz_to_np(xyz_df)[0])\n",
    "\n",
    "    mask = results_df[\"molecule\"] == molecule\n",
    "\n",
    "    results_df.loc[mask, \"VQM24 pairwise distance\"] = [\n",
    "        json.dumps(pairwise_distances_arr.tolist())\n",
    "    ] * mask.sum()\n",
    "\n",
    "results_df['VQM24 pairwise distance'] = results_df['VQM24 pairwise distance'].apply(lambda x: np.array(json.loads(x)))\n",
    "\n",
    "results_df[\"Atomization Energy MAE (Hartrees)\"] = abs(\n",
    "    results_df[\"atomisation energy (Hartrees)\"]\n",
    "    - results_df[\"VQM24 atomisation energy (Hartrees)\"]\n",
    ")\n",
    "results_df[\"Atomization Energy MAE (kcal/mol)\"] = abs(\n",
    "    results_df[\"atomisation energy (kcal/mol)\"]\n",
    "    - results_df[\"VQM24 atomisation energy (kcal/mol)\"]\n",
    ")\n",
    "\n",
    "results_df[\"Total Energy MAE (Hartrees)\"] = abs(\n",
    "    results_df[\"total energy (Hartrees)\"] - results_df[\"VQM24 total energy (Hartrees)\"]\n",
    ")\n",
    "results_df[\"Total Energy MAE (kcal/mol)\"] = abs(\n",
    "    results_df[\"total energy (kcal/mol)\"] - results_df[\"VQM24 total energy (kcal/mol)\"]\n",
    ")\n",
    "\n",
    "results_df[\"Pairwise Distance MAE\"] = results_df.apply(\n",
    "    lambda row: average_abs_dist(\n",
    "        row[\"pairwise distance\"], row[\"VQM24 pairwise distance\"]\n",
    "    ),\n",
    "    axis=1,\n",
    ")\n",
    "\n",
    "results_df[\"Pairwise Distance Frobenius Norm\"] = results_df.apply(\n",
    "    lambda row: np.linalg.norm(\n",
    "        row[\"pairwise distance\"] - row[\"VQM24 pairwise distance\"]\n",
    "    ),\n",
    "    axis=1,\n",
    ")"
   ]
  },
  {
   "cell_type": "code",
   "execution_count": 7,
   "metadata": {},
   "outputs": [
    {
     "data": {
      "text/html": [
       "<div>\n",
       "<style scoped>\n",
       "    .dataframe tbody tr th:only-of-type {\n",
       "        vertical-align: middle;\n",
       "    }\n",
       "\n",
       "    .dataframe tbody tr th {\n",
       "        vertical-align: top;\n",
       "    }\n",
       "\n",
       "    .dataframe thead th {\n",
       "        text-align: right;\n",
       "    }\n",
       "</style>\n",
       "<table border=\"1\" class=\"dataframe\">\n",
       "  <thead>\n",
       "    <tr style=\"text-align: right;\">\n",
       "      <th></th>\n",
       "      <th>molecule</th>\n",
       "      <th>parameter</th>\n",
       "      <th>factor</th>\n",
       "      <th>parameter value</th>\n",
       "      <th>atomisation energy (Hartrees)</th>\n",
       "      <th>atomisation energy (kcal/mol)</th>\n",
       "      <th>total energy (Hartrees)</th>\n",
       "      <th>total energy (kcal/mol)</th>\n",
       "      <th>pairwise distance</th>\n",
       "      <th>atoms</th>\n",
       "      <th>...</th>\n",
       "      <th>VQM24 atomisation energy (kcal/mol)</th>\n",
       "      <th>VQM24 total energy (Hartrees)</th>\n",
       "      <th>VQM24 total energy (kcal/mol)</th>\n",
       "      <th>VQM24 pairwise distance</th>\n",
       "      <th>Atomization Energy MAE (Hartrees)</th>\n",
       "      <th>Atomization Energy MAE (kcal/mol)</th>\n",
       "      <th>Total Energy MAE (Hartrees)</th>\n",
       "      <th>Total Energy MAE (kcal/mol)</th>\n",
       "      <th>Pairwise Distance MAE</th>\n",
       "      <th>Pairwise Distance Frobenius Norm</th>\n",
       "    </tr>\n",
       "  </thead>\n",
       "  <tbody>\n",
       "    <tr>\n",
       "      <th>0</th>\n",
       "      <td>BrSSiSxH3_2</td>\n",
       "      <td>kexplight</td>\n",
       "      <td>1.2</td>\n",
       "      <td>1.2</td>\n",
       "      <td>0.707659</td>\n",
       "      <td>444.062183</td>\n",
       "      <td>13.650865</td>\n",
       "      <td>8566.040903</td>\n",
       "      <td>[[0.0, 2.447864695485579, 3.8423510933777245, ...</td>\n",
       "      <td>['S', 'Si', 'Br', 'S', 'H', 'H', 'H']</td>\n",
       "      <td>...</td>\n",
       "      <td>446.295146</td>\n",
       "      <td>5.835438</td>\n",
       "      <td>3661.789619</td>\n",
       "      <td>[[0.0, 2.6040135127791433, 3.523605859355621, ...</td>\n",
       "      <td>0.003558</td>\n",
       "      <td>2.232964</td>\n",
       "      <td>7.815428</td>\n",
       "      <td>4904.251284</td>\n",
       "      <td>0.697765</td>\n",
       "      <td>6.242887</td>\n",
       "    </tr>\n",
       "    <tr>\n",
       "      <th>1</th>\n",
       "      <td>C2ClFSxH4_22</td>\n",
       "      <td>kexplight</td>\n",
       "      <td>1.2</td>\n",
       "      <td>1.2</td>\n",
       "      <td>1.613221</td>\n",
       "      <td>1012.310525</td>\n",
       "      <td>18.675790</td>\n",
       "      <td>11719.226458</td>\n",
       "      <td>[[0.0, 1.3390988712738194, 2.708443513153894, ...</td>\n",
       "      <td>['F', 'C', 'S', 'Cl', 'C', 'H', 'H', 'H', 'H']</td>\n",
       "      <td>...</td>\n",
       "      <td>693.249515</td>\n",
       "      <td>1.652139</td>\n",
       "      <td>1036.731911</td>\n",
       "      <td>[[0.0, 1.333680567403643, 2.7466757603578444, ...</td>\n",
       "      <td>0.508456</td>\n",
       "      <td>319.06101</td>\n",
       "      <td>17.023652</td>\n",
       "      <td>10682.494547</td>\n",
       "      <td>0.058493</td>\n",
       "      <td>0.801000</td>\n",
       "    </tr>\n",
       "    <tr>\n",
       "      <th>2</th>\n",
       "      <td>BrO2P2H3_8</td>\n",
       "      <td>kexplight</td>\n",
       "      <td>1.2</td>\n",
       "      <td>1.2</td>\n",
       "      <td>1.548242</td>\n",
       "      <td>971.535771</td>\n",
       "      <td>18.770090</td>\n",
       "      <td>11778.400337</td>\n",
       "      <td>[[0.0, 1.6480754808629658, 2.5886844666025537,...</td>\n",
       "      <td>['P', 'O', 'O', 'P', 'Br', 'H', 'H', 'H']</td>\n",
       "      <td>...</td>\n",
       "      <td>488.052273</td>\n",
       "      <td>5.432418</td>\n",
       "      <td>3408.891139</td>\n",
       "      <td>[[0.0, 1.6994959608214022, 2.596585491161673, ...</td>\n",
       "      <td>0.770481</td>\n",
       "      <td>483.483497</td>\n",
       "      <td>13.337672</td>\n",
       "      <td>8369.509198</td>\n",
       "      <td>0.304710</td>\n",
       "      <td>3.678716</td>\n",
       "    </tr>\n",
       "    <tr>\n",
       "      <th>3</th>\n",
       "      <td>ClOP3H0_1</td>\n",
       "      <td>kexplight</td>\n",
       "      <td>1.2</td>\n",
       "      <td>1.2</td>\n",
       "      <td>1.216244</td>\n",
       "      <td>763.204064</td>\n",
       "      <td>16.157681</td>\n",
       "      <td>10139.090245</td>\n",
       "      <td>[[0.0, 1.457927102332756, 2.977110745100965, 4...</td>\n",
       "      <td>['O', 'P', 'P', 'P', 'Cl']</td>\n",
       "      <td>...</td>\n",
       "      <td>312.381174</td>\n",
       "      <td>2.485124</td>\n",
       "      <td>1559.437989</td>\n",
       "      <td>[[0.0, 1.5071483694377603, 3.110195158460032, ...</td>\n",
       "      <td>0.718433</td>\n",
       "      <td>450.82289</td>\n",
       "      <td>13.672556</td>\n",
       "      <td>8579.652256</td>\n",
       "      <td>0.293298</td>\n",
       "      <td>2.366234</td>\n",
       "    </tr>\n",
       "    <tr>\n",
       "      <th>4</th>\n",
       "      <td>CN2PSH1_54</td>\n",
       "      <td>kexplight</td>\n",
       "      <td>1.2</td>\n",
       "      <td>1.2</td>\n",
       "      <td>1.767130</td>\n",
       "      <td>1108.890292</td>\n",
       "      <td>14.221133</td>\n",
       "      <td>8923.888752</td>\n",
       "      <td>[[0.0, 1.6659726863761082, 2.466966445470851, ...</td>\n",
       "      <td>['N', 'P', 'N', 'S', 'C', 'H']</td>\n",
       "      <td>...</td>\n",
       "      <td>531.570446</td>\n",
       "      <td>1.414629</td>\n",
       "      <td>887.692235</td>\n",
       "      <td>[[0.0, 1.702211789424578, 2.5644599381846733, ...</td>\n",
       "      <td>0.920018</td>\n",
       "      <td>577.319846</td>\n",
       "      <td>12.806504</td>\n",
       "      <td>8036.196517</td>\n",
       "      <td>0.032146</td>\n",
       "      <td>0.230476</td>\n",
       "    </tr>\n",
       "  </tbody>\n",
       "</table>\n",
       "<p>5 rows × 21 columns</p>\n",
       "</div>"
      ],
      "text/plain": [
       "       molecule  parameter  factor  parameter value  \\\n",
       "0   BrSSiSxH3_2  kexplight     1.2              1.2   \n",
       "1  C2ClFSxH4_22  kexplight     1.2              1.2   \n",
       "2    BrO2P2H3_8  kexplight     1.2              1.2   \n",
       "3     ClOP3H0_1  kexplight     1.2              1.2   \n",
       "4    CN2PSH1_54  kexplight     1.2              1.2   \n",
       "\n",
       "   atomisation energy (Hartrees)  atomisation energy (kcal/mol)  \\\n",
       "0                       0.707659                     444.062183   \n",
       "1                       1.613221                    1012.310525   \n",
       "2                       1.548242                     971.535771   \n",
       "3                       1.216244                     763.204064   \n",
       "4                       1.767130                    1108.890292   \n",
       "\n",
       "   total energy (Hartrees)  total energy (kcal/mol)  \\\n",
       "0                13.650865              8566.040903   \n",
       "1                18.675790             11719.226458   \n",
       "2                18.770090             11778.400337   \n",
       "3                16.157681             10139.090245   \n",
       "4                14.221133              8923.888752   \n",
       "\n",
       "                                   pairwise distance  \\\n",
       "0  [[0.0, 2.447864695485579, 3.8423510933777245, ...   \n",
       "1  [[0.0, 1.3390988712738194, 2.708443513153894, ...   \n",
       "2  [[0.0, 1.6480754808629658, 2.5886844666025537,...   \n",
       "3  [[0.0, 1.457927102332756, 2.977110745100965, 4...   \n",
       "4  [[0.0, 1.6659726863761082, 2.466966445470851, ...   \n",
       "\n",
       "                                            atoms  ...  \\\n",
       "0           ['S', 'Si', 'Br', 'S', 'H', 'H', 'H']  ...   \n",
       "1  ['F', 'C', 'S', 'Cl', 'C', 'H', 'H', 'H', 'H']  ...   \n",
       "2       ['P', 'O', 'O', 'P', 'Br', 'H', 'H', 'H']  ...   \n",
       "3                      ['O', 'P', 'P', 'P', 'Cl']  ...   \n",
       "4                  ['N', 'P', 'N', 'S', 'C', 'H']  ...   \n",
       "\n",
       "  VQM24 atomisation energy (kcal/mol) VQM24 total energy (Hartrees)  \\\n",
       "0                          446.295146                      5.835438   \n",
       "1                          693.249515                      1.652139   \n",
       "2                          488.052273                      5.432418   \n",
       "3                          312.381174                      2.485124   \n",
       "4                          531.570446                      1.414629   \n",
       "\n",
       "  VQM24 total energy (kcal/mol)  \\\n",
       "0                   3661.789619   \n",
       "1                   1036.731911   \n",
       "2                   3408.891139   \n",
       "3                   1559.437989   \n",
       "4                    887.692235   \n",
       "\n",
       "                             VQM24 pairwise distance  \\\n",
       "0  [[0.0, 2.6040135127791433, 3.523605859355621, ...   \n",
       "1  [[0.0, 1.333680567403643, 2.7466757603578444, ...   \n",
       "2  [[0.0, 1.6994959608214022, 2.596585491161673, ...   \n",
       "3  [[0.0, 1.5071483694377603, 3.110195158460032, ...   \n",
       "4  [[0.0, 1.702211789424578, 2.5644599381846733, ...   \n",
       "\n",
       "  Atomization Energy MAE (Hartrees) Atomization Energy MAE (kcal/mol)  \\\n",
       "0                          0.003558                          2.232964   \n",
       "1                          0.508456                         319.06101   \n",
       "2                          0.770481                        483.483497   \n",
       "3                          0.718433                         450.82289   \n",
       "4                          0.920018                        577.319846   \n",
       "\n",
       "  Total Energy MAE (Hartrees) Total Energy MAE (kcal/mol)  \\\n",
       "0                    7.815428                 4904.251284   \n",
       "1                   17.023652                10682.494547   \n",
       "2                   13.337672                 8369.509198   \n",
       "3                   13.672556                 8579.652256   \n",
       "4                   12.806504                 8036.196517   \n",
       "\n",
       "  Pairwise Distance MAE  Pairwise Distance Frobenius Norm  \n",
       "0              0.697765                          6.242887  \n",
       "1              0.058493                          0.801000  \n",
       "2              0.304710                          3.678716  \n",
       "3              0.293298                          2.366234  \n",
       "4              0.032146                          0.230476  \n",
       "\n",
       "[5 rows x 21 columns]"
      ]
     },
     "execution_count": 7,
     "metadata": {},
     "output_type": "execute_result"
    }
   ],
   "source": [
    "results_df.head()"
   ]
  },
  {
   "cell_type": "code",
   "execution_count": 8,
   "metadata": {},
   "outputs": [],
   "source": [
    "results_df.to_csv(processed_results_path / \"with_reference_results.csv\", index=False)"
   ]
  },
  {
   "cell_type": "markdown",
   "metadata": {},
   "source": [
    "## Aggregate Results"
   ]
  },
  {
   "cell_type": "code",
   "execution_count": 9,
   "metadata": {},
   "outputs": [],
   "source": [
    "results_df = pd.read_csv(processed_results_path / \"with_reference_results.csv\")"
   ]
  },
  {
   "cell_type": "code",
   "execution_count": 10,
   "metadata": {},
   "outputs": [
    {
     "data": {
      "text/html": [
       "<div>\n",
       "<style scoped>\n",
       "    .dataframe tbody tr th:only-of-type {\n",
       "        vertical-align: middle;\n",
       "    }\n",
       "\n",
       "    .dataframe tbody tr th {\n",
       "        vertical-align: top;\n",
       "    }\n",
       "\n",
       "    .dataframe thead th {\n",
       "        text-align: right;\n",
       "    }\n",
       "</style>\n",
       "<table border=\"1\" class=\"dataframe\">\n",
       "  <thead>\n",
       "    <tr style=\"text-align: right;\">\n",
       "      <th></th>\n",
       "      <th>parameter</th>\n",
       "      <th>factor</th>\n",
       "      <th>parameter value</th>\n",
       "      <th>Atomization Energy MAE (kcal/mol)</th>\n",
       "      <th>Total Energy MAE (kcal/mol)</th>\n",
       "      <th>Pairwise Distance MAE</th>\n",
       "      <th>Pairwise Distance Frobenius Norm</th>\n",
       "    </tr>\n",
       "  </thead>\n",
       "  <tbody>\n",
       "    <tr>\n",
       "      <th>0</th>\n",
       "      <td>a1</td>\n",
       "      <td>0.8</td>\n",
       "      <td>0.416</td>\n",
       "      <td>447.168610</td>\n",
       "      <td>8436.629131</td>\n",
       "      <td>0.402464</td>\n",
       "      <td>5.341198</td>\n",
       "    </tr>\n",
       "    <tr>\n",
       "      <th>1</th>\n",
       "      <td>a1</td>\n",
       "      <td>0.9</td>\n",
       "      <td>0.468</td>\n",
       "      <td>465.945616</td>\n",
       "      <td>8384.836193</td>\n",
       "      <td>0.368220</td>\n",
       "      <td>4.822834</td>\n",
       "    </tr>\n",
       "    <tr>\n",
       "      <th>2</th>\n",
       "      <td>a1</td>\n",
       "      <td>1.0</td>\n",
       "      <td>0.520</td>\n",
       "      <td>450.541897</td>\n",
       "      <td>8402.476356</td>\n",
       "      <td>0.383720</td>\n",
       "      <td>5.053570</td>\n",
       "    </tr>\n",
       "    <tr>\n",
       "      <th>3</th>\n",
       "      <td>a1</td>\n",
       "      <td>1.1</td>\n",
       "      <td>0.572</td>\n",
       "      <td>467.470238</td>\n",
       "      <td>8385.269437</td>\n",
       "      <td>0.370357</td>\n",
       "      <td>4.830669</td>\n",
       "    </tr>\n",
       "    <tr>\n",
       "      <th>4</th>\n",
       "      <td>a1</td>\n",
       "      <td>1.2</td>\n",
       "      <td>0.624</td>\n",
       "      <td>456.347838</td>\n",
       "      <td>8383.214394</td>\n",
       "      <td>0.381624</td>\n",
       "      <td>5.071695</td>\n",
       "    </tr>\n",
       "  </tbody>\n",
       "</table>\n",
       "</div>"
      ],
      "text/plain": [
       "  parameter  factor  parameter value  Atomization Energy MAE (kcal/mol)  \\\n",
       "0        a1     0.8            0.416                         447.168610   \n",
       "1        a1     0.9            0.468                         465.945616   \n",
       "2        a1     1.0            0.520                         450.541897   \n",
       "3        a1     1.1            0.572                         467.470238   \n",
       "4        a1     1.2            0.624                         456.347838   \n",
       "\n",
       "   Total Energy MAE (kcal/mol)  Pairwise Distance MAE  \\\n",
       "0                  8436.629131               0.402464   \n",
       "1                  8384.836193               0.368220   \n",
       "2                  8402.476356               0.383720   \n",
       "3                  8385.269437               0.370357   \n",
       "4                  8383.214394               0.381624   \n",
       "\n",
       "   Pairwise Distance Frobenius Norm  \n",
       "0                          5.341198  \n",
       "1                          4.822834  \n",
       "2                          5.053570  \n",
       "3                          4.830669  \n",
       "4                          5.071695  "
      ]
     },
     "execution_count": 10,
     "metadata": {},
     "output_type": "execute_result"
    }
   ],
   "source": [
    "aggregated_results = (\n",
    "    results_df.groupby([\"parameter\", \"factor\", \"parameter value\"])[[\n",
    "        \"Atomization Energy MAE (kcal/mol)\",\n",
    "        \"Total Energy MAE (kcal/mol)\",\n",
    "        \"Pairwise Distance MAE\",\n",
    "        \"Pairwise Distance Frobenius Norm\",\n",
    "    ]]\n",
    "    .mean()\n",
    "    .reset_index()\n",
    ")\n",
    "aggregated_results.head()"
   ]
  },
  {
   "cell_type": "code",
   "execution_count": 11,
   "metadata": {},
   "outputs": [],
   "source": [
    "aggregated_results.to_csv(\n",
    "    processed_results_path / \"aggregated_results.csv\", index=False\n",
    ")"
   ]
  }
 ],
 "metadata": {
  "kernelspec": {
   "display_name": "xtb",
   "language": "python",
   "name": "python3"
  },
  "language_info": {
   "codemirror_mode": {
    "name": "ipython",
    "version": 3
   },
   "file_extension": ".py",
   "mimetype": "text/x-python",
   "name": "python",
   "nbconvert_exporter": "python",
   "pygments_lexer": "ipython3",
   "version": "3.13.1"
  }
 },
 "nbformat": 4,
 "nbformat_minor": 2
}
