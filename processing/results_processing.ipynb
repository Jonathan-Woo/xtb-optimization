{
 "cells": [
  {
   "cell_type": "markdown",
   "metadata": {},
   "source": [
    "# Data Processing"
   ]
  },
  {
   "cell_type": "code",
   "execution_count": 1,
   "metadata": {},
   "outputs": [],
   "source": [
    "from pathlib import Path\n",
    "import pandas as pd\n",
    "import re\n",
    "from tqdm import tqdm\n",
    "import matplotlib.pyplot as plt\n",
    "import numpy as np\n",
    "import json\n",
    "\n",
    "from processing_utils import xyz_to_df, pairwise_distance, average_abs_dist, xyz_to_np, read_energy_gradient\n",
    "\n",
    "HARTREE_TO_KCAL_MOL = 627.509"
   ]
  },
  {
   "cell_type": "code",
   "execution_count": 2,
   "metadata": {},
   "outputs": [],
   "source": [
    "experiments_path = Path(\"experiments_no_opt\")\n",
    "processed_results_path = Path(\"processed_results\")\n",
    "molecules_path = Path(\"uniques_100_molecules_42_seed\")"
   ]
  },
  {
   "cell_type": "markdown",
   "metadata": {},
   "source": [
    "## Parse Results"
   ]
  },
  {
   "cell_type": "markdown",
   "metadata": {},
   "source": [
    "### Parse Experiment Results from xtb Output Files"
   ]
  },
  {
   "cell_type": "code",
   "execution_count": 3,
   "metadata": {},
   "outputs": [
    {
     "name": "stderr",
     "output_type": "stream",
     "text": [
      "  0%|          | 0/25 [00:00<?, ?it/s]"
     ]
    },
    {
     "name": "stdout",
     "output_type": "stream",
     "text": [
      "Skipped 0 / 89 molecules in gam3d2 with parameter 1.5 and value 0.375.\n",
      "Skipped 0 / 89 molecules in gam3d2 with parameter 1.4 and value 0.35.\n",
      "Skipped 0 / 89 molecules in gam3d2 with parameter 1.3 and value 0.325.\n",
      "Skipped 0 / 89 molecules in gam3d2 with parameter 0.9 and value 0.225.\n",
      "Skipped 0 / 89 molecules in gam3d2 with parameter 1.1 and value 0.275.\n",
      "Skipped 0 / 89 molecules in gam3d2 with parameter 1.2 and value 0.3.\n",
      "Skipped 0 / 89 molecules in gam3d2 with parameter 0.5 and value 0.125.\n",
      "Skipped 0 / 89 molecules in gam3d2 with parameter 0.7 and value 0.175.\n",
      "Skipped 0 / 89 molecules in gam3d2 with parameter 0.6 and value 0.15.\n"
     ]
    },
    {
     "name": "stderr",
     "output_type": "stream",
     "text": [
      "  4%|▍         | 1/25 [00:00<00:23,  1.04it/s]"
     ]
    },
    {
     "name": "stdout",
     "output_type": "stream",
     "text": [
      "Skipped 0 / 89 molecules in gam3d2 with parameter 0.8 and value 0.2.\n",
      "Skipped 0 / 89 molecules in gam3d2 with parameter 1.0 and value 0.25.\n",
      "Skipped 0 / 89 molecules in ks with parameter 1.3 and value 2.405.\n",
      "Skipped 0 / 89 molecules in ks with parameter 0.6 and value 1.11.\n",
      "Skipped 0 / 89 molecules in ks with parameter 0.7 and value 1.295.\n",
      "Skipped 0 / 89 molecules in ks with parameter 0.8 and value 1.48.\n",
      "Skipped 0 / 89 molecules in ks with parameter 1.2 and value 2.22.\n",
      "Skipped 0 / 89 molecules in ks with parameter 0.9 and value 1.665.\n",
      "Skipped 0 / 89 molecules in ks with parameter 1.0 and value 1.85.\n",
      "Skipped 1 / 89 molecules in ks with parameter 1.4 and value 2.59.\n",
      "Skipped 3 / 89 molecules in ks with parameter 1.5 and value 2.775.\n",
      "Skipped 0 / 89 molecules in ks with parameter 0.5 and value 0.925.\n"
     ]
    },
    {
     "name": "stderr",
     "output_type": "stream",
     "text": [
      "  8%|▊         | 2/25 [00:01<00:22,  1.03it/s]"
     ]
    },
    {
     "name": "stdout",
     "output_type": "stream",
     "text": [
      "Skipped 0 / 89 molecules in ks with parameter 1.1 and value 2.035.\n",
      "Skipped 0 / 89 molecules in kp with parameter 1.3 and value 2.899.\n",
      "Skipped 0 / 89 molecules in kp with parameter 0.7 and value 1.561.\n",
      "Skipped 0 / 89 molecules in kp with parameter 0.6 and value 1.338.\n",
      "Skipped 1 / 89 molecules in kp with parameter 1.5 and value 3.345.\n",
      "Skipped 0 / 89 molecules in kp with parameter 1.4 and value 3.122.\n",
      "Skipped 0 / 89 molecules in kp with parameter 1.2 and value 2.676.\n",
      "Skipped 2 / 89 molecules in kp with parameter 0.5 and value 1.115.\n",
      "Skipped 0 / 89 molecules in kp with parameter 1.1 and value 2.453.\n"
     ]
    },
    {
     "name": "stderr",
     "output_type": "stream",
     "text": [
      " 12%|█▏        | 3/25 [00:02<00:21,  1.04it/s]"
     ]
    },
    {
     "name": "stdout",
     "output_type": "stream",
     "text": [
      "Skipped 0 / 89 molecules in kp with parameter 0.8 and value 1.784.\n",
      "Skipped 0 / 89 molecules in kp with parameter 0.9 and value 2.007.\n",
      "Skipped 0 / 89 molecules in kp with parameter 1.0 and value 2.23.\n",
      "Skipped 0 / 89 molecules in kpd with parameter 0.6 and value 1.2.\n",
      "Skipped 0 / 89 molecules in kpd with parameter 0.7 and value 1.4.\n",
      "Skipped 0 / 89 molecules in kpd with parameter 1.5 and value 3.0.\n",
      "Skipped 0 / 89 molecules in kpd with parameter 1.4 and value 2.8.\n",
      "Skipped 0 / 89 molecules in kpd with parameter 0.5 and value 1.0.\n",
      "Skipped 0 / 89 molecules in kpd with parameter 1.3 and value 2.6.\n",
      "Skipped 0 / 89 molecules in kpd with parameter 0.8 and value 1.6.\n",
      "Skipped 0 / 89 molecules in kpd with parameter 1.2 and value 2.4.\n",
      "Skipped 0 / 89 molecules in kpd with parameter 0.9 and value 1.8.\n"
     ]
    },
    {
     "name": "stderr",
     "output_type": "stream",
     "text": [
      " 16%|█▌        | 4/25 [00:03<00:20,  1.01it/s]"
     ]
    },
    {
     "name": "stdout",
     "output_type": "stream",
     "text": [
      "Skipped 0 / 89 molecules in kpd with parameter 1.0 and value 2.0.\n",
      "Skipped 0 / 89 molecules in kpd with parameter 1.1 and value 2.2.\n",
      "Skipped 0 / 89 molecules in a1 with parameter 1.0 and value 0.52.\n",
      "Skipped 0 / 89 molecules in a1 with parameter 1.1 and value 0.572.\n",
      "Skipped 0 / 89 molecules in a1 with parameter 1.4 and value 0.728.\n",
      "Skipped 0 / 89 molecules in a1 with parameter 0.8 and value 0.416.\n",
      "Skipped 0 / 89 molecules in a1 with parameter 1.3 and value 0.676.\n",
      "Skipped 0 / 89 molecules in a1 with parameter 0.6 and value 0.312.\n",
      "Skipped 0 / 89 molecules in a1 with parameter 0.9 and value 0.468.\n",
      "Skipped 0 / 89 molecules in a1 with parameter 0.5 and value 0.26.\n",
      "Skipped 0 / 89 molecules in a1 with parameter 1.2 and value 0.624.\n",
      "Skipped 0 / 89 molecules in a1 with parameter 1.5 and value 0.78.\n"
     ]
    },
    {
     "name": "stderr",
     "output_type": "stream",
     "text": [
      " 20%|██        | 5/25 [00:04<00:19,  1.00it/s]"
     ]
    },
    {
     "name": "stdout",
     "output_type": "stream",
     "text": [
      "Skipped 0 / 89 molecules in a1 with parameter 0.7 and value 0.364.\n",
      "Skipped 0 / 89 molecules in aesexp with parameter 1.3 and value 5.2.\n",
      "Skipped 0 / 89 molecules in aesexp with parameter 1.4 and value 5.6.\n",
      "Skipped 0 / 89 molecules in aesexp with parameter 0.8 and value 3.2.\n",
      "Skipped 0 / 89 molecules in aesexp with parameter 0.7 and value 2.8.\n",
      "Skipped 0 / 89 molecules in aesexp with parameter 1.2 and value 4.8.\n",
      "Skipped 0 / 89 molecules in aesexp with parameter 0.6 and value 2.4.\n",
      "Skipped 0 / 89 molecules in aesexp with parameter 1.5 and value 6.0.\n",
      "Skipped 0 / 89 molecules in aesexp with parameter 0.5 and value 2.0.\n"
     ]
    },
    {
     "name": "stderr",
     "output_type": "stream",
     "text": [
      " 24%|██▍       | 6/25 [00:05<00:19,  1.01s/it]"
     ]
    },
    {
     "name": "stdout",
     "output_type": "stream",
     "text": [
      "Skipped 0 / 89 molecules in aesexp with parameter 0.9 and value 3.6.\n",
      "Skipped 0 / 89 molecules in aesexp with parameter 1.0 and value 4.0.\n",
      "Skipped 0 / 89 molecules in aesexp with parameter 1.1 and value 4.4.\n",
      "Skipped 0 / 89 molecules in gam3p with parameter 0.9 and value 0.45.\n",
      "Skipped 0 / 89 molecules in gam3p with parameter 0.8 and value 0.4.\n",
      "Skipped 0 / 89 molecules in gam3p with parameter 1.2 and value 0.6.\n",
      "Skipped 0 / 89 molecules in gam3p with parameter 0.6 and value 0.3.\n",
      "Skipped 0 / 89 molecules in gam3p with parameter 1.4 and value 0.7.\n",
      "Skipped 0 / 89 molecules in gam3p with parameter 1.3 and value 0.65.\n",
      "Skipped 0 / 89 molecules in gam3p with parameter 0.5 and value 0.25.\n",
      "Skipped 0 / 89 molecules in gam3p with parameter 1.0 and value 0.5.\n",
      "Skipped 0 / 89 molecules in gam3p with parameter 0.7 and value 0.35.\n"
     ]
    },
    {
     "name": "stderr",
     "output_type": "stream",
     "text": [
      " 28%|██▊       | 7/25 [00:07<00:18,  1.03s/it]"
     ]
    },
    {
     "name": "stdout",
     "output_type": "stream",
     "text": [
      "Skipped 0 / 89 molecules in gam3p with parameter 1.5 and value 0.75.\n",
      "Skipped 0 / 89 molecules in gam3p with parameter 1.1 and value 0.55.\n",
      "Skipped 0 / 89 molecules in gam3d1 with parameter 1.5 and value 0.375.\n",
      "Skipped 0 / 89 molecules in gam3d1 with parameter 1.4 and value 0.35.\n",
      "Skipped 0 / 89 molecules in gam3d1 with parameter 1.3 and value 0.325.\n",
      "Skipped 0 / 89 molecules in gam3d1 with parameter 0.9 and value 0.225.\n",
      "Skipped 0 / 89 molecules in gam3d1 with parameter 1.1 and value 0.275.\n",
      "Skipped 0 / 89 molecules in gam3d1 with parameter 1.2 and value 0.3.\n",
      "Skipped 0 / 89 molecules in gam3d1 with parameter 0.5 and value 0.125.\n",
      "Skipped 0 / 89 molecules in gam3d1 with parameter 0.7 and value 0.175.\n",
      "Skipped 0 / 89 molecules in gam3d1 with parameter 0.6 and value 0.15.\n",
      "Skipped 0 / 89 molecules in gam3d1 with parameter 0.8 and value 0.2.\n"
     ]
    },
    {
     "name": "stderr",
     "output_type": "stream",
     "text": [
      " 32%|███▏      | 8/25 [00:08<00:17,  1.03s/it]"
     ]
    },
    {
     "name": "stdout",
     "output_type": "stream",
     "text": [
      "Skipped 0 / 89 molecules in gam3d1 with parameter 1.0 and value 0.25.\n",
      "Skipped 0 / 89 molecules in s8 with parameter 1.2 and value 3.24.\n",
      "Skipped 0 / 89 molecules in s8 with parameter 0.7 and value 1.89.\n",
      "Skipped 0 / 89 molecules in s8 with parameter 1.4 and value 3.78.\n",
      "Skipped 0 / 89 molecules in s8 with parameter 0.9 and value 2.43.\n",
      "Skipped 0 / 89 molecules in s8 with parameter 1.3 and value 3.51.\n",
      "Skipped 0 / 89 molecules in s8 with parameter 1.0 and value 2.7.\n",
      "Skipped 0 / 89 molecules in s8 with parameter 0.5 and value 1.35.\n",
      "Skipped 0 / 89 molecules in s8 with parameter 1.1 and value 2.97.\n",
      "Skipped 0 / 89 molecules in s8 with parameter 0.6 and value 1.62.\n"
     ]
    },
    {
     "name": "stderr",
     "output_type": "stream",
     "text": [
      " 36%|███▌      | 9/25 [00:09<00:16,  1.05s/it]"
     ]
    },
    {
     "name": "stdout",
     "output_type": "stream",
     "text": [
      "Skipped 0 / 89 molecules in s8 with parameter 0.8 and value 2.16.\n",
      "Skipped 0 / 89 molecules in s8 with parameter 1.5 and value 4.05.\n",
      "Skipped 0 / 89 molecules in ipeashift with parameter 1.4 and value 2.492966.\n",
      "Skipped 0 / 89 molecules in ipeashift with parameter 0.7 and value 1.246483.\n",
      "Skipped 0 / 89 molecules in ipeashift with parameter 1.5 and value 2.671035.\n",
      "Skipped 0 / 89 molecules in ipeashift with parameter 1.0 and value 1.78069.\n",
      "Skipped 0 / 89 molecules in ipeashift with parameter 1.3 and value 2.314897.\n",
      "Skipped 0 / 89 molecules in ipeashift with parameter 1.1 and value 1.958759.\n",
      "Skipped 0 / 89 molecules in ipeashift with parameter 0.6 and value 1.068414.\n",
      "Skipped 0 / 89 molecules in ipeashift with parameter 1.2 and value 2.136828.\n"
     ]
    },
    {
     "name": "stderr",
     "output_type": "stream",
     "text": [
      " 40%|████      | 10/25 [00:10<00:16,  1.09s/it]"
     ]
    },
    {
     "name": "stdout",
     "output_type": "stream",
     "text": [
      "Skipped 0 / 89 molecules in ipeashift with parameter 0.8 and value 1.424552.\n",
      "Skipped 0 / 89 molecules in ipeashift with parameter 0.9 and value 1.602621.\n",
      "Skipped 0 / 89 molecules in ipeashift with parameter 0.5 and value 0.890345.\n",
      "Skipped 0 / 89 molecules in aesshift with parameter 0.9 and value 1.08.\n",
      "Skipped 0 / 89 molecules in aesshift with parameter 0.8 and value 0.96.\n",
      "Skipped 0 / 89 molecules in aesshift with parameter 1.0 and value 1.2.\n",
      "Skipped 0 / 89 molecules in aesshift with parameter 1.5 and value 1.8.\n",
      "Skipped 0 / 89 molecules in aesshift with parameter 1.4 and value 1.68.\n",
      "Skipped 0 / 89 molecules in aesshift with parameter 0.5 and value 0.6.\n",
      "Skipped 0 / 89 molecules in aesshift with parameter 0.6 and value 0.72.\n",
      "Skipped 0 / 89 molecules in aesshift with parameter 1.2 and value 1.44.\n",
      "Skipped 0 / 89 molecules in aesshift with parameter 0.7 and value 0.84.\n"
     ]
    },
    {
     "name": "stderr",
     "output_type": "stream",
     "text": [
      " 44%|████▍     | 11/25 [00:11<00:15,  1.10s/it]"
     ]
    },
    {
     "name": "stdout",
     "output_type": "stream",
     "text": [
      "Skipped 0 / 89 molecules in aesshift with parameter 1.3 and value 1.56.\n",
      "Skipped 0 / 89 molecules in aesshift with parameter 1.1 and value 1.32.\n",
      "Skipped 0 / 89 molecules in aesdmp5 with parameter 1.3 and value 5.2.\n",
      "Skipped 0 / 89 molecules in aesdmp5 with parameter 1.4 and value 5.6.\n",
      "Skipped 0 / 89 molecules in aesdmp5 with parameter 0.8 and value 3.2.\n",
      "Skipped 0 / 89 molecules in aesdmp5 with parameter 0.7 and value 2.8.\n",
      "Skipped 0 / 89 molecules in aesdmp5 with parameter 1.2 and value 4.8.\n",
      "Skipped 0 / 89 molecules in aesdmp5 with parameter 0.6 and value 2.4.\n",
      "Skipped 0 / 89 molecules in aesdmp5 with parameter 1.5 and value 6.0.\n",
      "Skipped 0 / 89 molecules in aesdmp5 with parameter 0.5 and value 2.0.\n",
      "Skipped 0 / 89 molecules in aesdmp5 with parameter 0.9 and value 3.6.\n",
      "Skipped 0 / 89 molecules in aesdmp5 with parameter 1.0 and value 4.0.\n"
     ]
    },
    {
     "name": "stderr",
     "output_type": "stream",
     "text": [
      " 48%|████▊     | 12/25 [00:12<00:14,  1.12s/it]"
     ]
    },
    {
     "name": "stdout",
     "output_type": "stream",
     "text": [
      "Skipped 0 / 89 molecules in aesdmp5 with parameter 1.1 and value 4.4.\n",
      "Skipped 0 / 89 molecules in kexp with parameter 1.4 and value 2.1.\n",
      "Skipped 0 / 89 molecules in kexp with parameter 0.5 and value 0.75.\n",
      "Skipped 0 / 89 molecules in kexp with parameter 0.6 and value 0.9.\n",
      "Skipped 0 / 89 molecules in kexp with parameter 1.0 and value 1.5.\n",
      "Skipped 0 / 89 molecules in kexp with parameter 1.3 and value 1.95.\n",
      "Skipped 0 / 89 molecules in kexp with parameter 1.5 and value 2.25.\n",
      "Skipped 0 / 89 molecules in kexp with parameter 0.7 and value 1.05.\n",
      "Skipped 0 / 89 molecules in kexp with parameter 1.2 and value 1.8.\n",
      "Skipped 0 / 89 molecules in kexp with parameter 0.9 and value 1.35.\n"
     ]
    },
    {
     "name": "stderr",
     "output_type": "stream",
     "text": [
      " 52%|█████▏    | 13/25 [00:13<00:13,  1.15s/it]"
     ]
    },
    {
     "name": "stdout",
     "output_type": "stream",
     "text": [
      "Skipped 0 / 89 molecules in kexp with parameter 1.1 and value 1.65.\n",
      "Skipped 0 / 89 molecules in kexp with parameter 0.8 and value 1.2.\n",
      "Skipped 0 / 89 molecules in gam3s with parameter 0.9 and value 0.9.\n",
      "Skipped 0 / 89 molecules in gam3s with parameter 1.1 and value 1.1.\n",
      "Skipped 0 / 89 molecules in gam3s with parameter 0.5 and value 0.5.\n",
      "Skipped 0 / 89 molecules in gam3s with parameter 1.3 and value 1.3.\n",
      "Skipped 0 / 89 molecules in gam3s with parameter 0.7 and value 0.7.\n",
      "Skipped 0 / 89 molecules in gam3s with parameter 0.6 and value 0.6.\n",
      "Skipped 0 / 89 molecules in gam3s with parameter 1.5 and value 1.5.\n",
      "Skipped 0 / 89 molecules in gam3s with parameter 1.0 and value 1.0.\n",
      "Skipped 0 / 89 molecules in gam3s with parameter 1.2 and value 1.2.\n",
      "Skipped 0 / 89 molecules in gam3s with parameter 0.8 and value 0.8.\n"
     ]
    },
    {
     "name": "stderr",
     "output_type": "stream",
     "text": [
      " 56%|█████▌    | 14/25 [00:15<00:12,  1.17s/it]"
     ]
    },
    {
     "name": "stdout",
     "output_type": "stream",
     "text": [
      "Skipped 0 / 89 molecules in gam3s with parameter 1.4 and value 1.4.\n",
      "Skipped 0 / 89 molecules in alphaj with parameter 0.6 and value 1.2.\n",
      "Skipped 0 / 89 molecules in alphaj with parameter 0.7 and value 1.4.\n",
      "Skipped 0 / 89 molecules in alphaj with parameter 1.5 and value 3.0.\n",
      "Skipped 0 / 89 molecules in alphaj with parameter 1.4 and value 2.8.\n",
      "Skipped 0 / 89 molecules in alphaj with parameter 0.5 and value 1.0.\n",
      "Skipped 0 / 89 molecules in alphaj with parameter 1.3 and value 2.6.\n",
      "Skipped 0 / 89 molecules in alphaj with parameter 0.8 and value 1.6.\n",
      "Skipped 0 / 89 molecules in alphaj with parameter 1.2 and value 2.4.\n",
      "Skipped 0 / 89 molecules in alphaj with parameter 0.9 and value 1.8.\n"
     ]
    },
    {
     "name": "stderr",
     "output_type": "stream",
     "text": [
      " 60%|██████    | 15/25 [00:16<00:12,  1.22s/it]"
     ]
    },
    {
     "name": "stdout",
     "output_type": "stream",
     "text": [
      "Skipped 0 / 89 molecules in alphaj with parameter 1.0 and value 2.0.\n",
      "Skipped 0 / 89 molecules in alphaj with parameter 1.1 and value 2.2.\n",
      "Skipped 0 / 89 molecules in kexplight with parameter 0.9 and value 0.9.\n",
      "Skipped 0 / 89 molecules in kexplight with parameter 1.1 and value 1.1.\n",
      "Skipped 0 / 89 molecules in kexplight with parameter 0.5 and value 0.5.\n",
      "Skipped 0 / 89 molecules in kexplight with parameter 1.3 and value 1.3.\n",
      "Skipped 0 / 89 molecules in kexplight with parameter 0.7 and value 0.7.\n",
      "Skipped 0 / 89 molecules in kexplight with parameter 0.6 and value 0.6.\n",
      "Skipped 0 / 89 molecules in kexplight with parameter 1.5 and value 1.5.\n",
      "Skipped 0 / 89 molecules in kexplight with parameter 1.0 and value 1.0.\n",
      "Skipped 0 / 89 molecules in kexplight with parameter 1.2 and value 1.2.\n",
      "Skipped 0 / 89 molecules in kexplight with parameter 0.8 and value 0.8.\n"
     ]
    },
    {
     "name": "stderr",
     "output_type": "stream",
     "text": [
      " 64%|██████▍   | 16/25 [00:17<00:11,  1.25s/it]"
     ]
    },
    {
     "name": "stdout",
     "output_type": "stream",
     "text": [
      "Skipped 0 / 89 molecules in kexplight with parameter 1.4 and value 1.4.\n",
      "Skipped 0 / 89 molecules in s9 with parameter 1.1 and value 5.5.\n",
      "Skipped 0 / 89 molecules in s9 with parameter 1.4 and value 7.0.\n",
      "Skipped 0 / 89 molecules in s9 with parameter 0.8 and value 4.0.\n",
      "Skipped 0 / 89 molecules in s9 with parameter 1.3 and value 6.5.\n",
      "Skipped 0 / 89 molecules in s9 with parameter 0.6 and value 3.0.\n",
      "Skipped 0 / 89 molecules in s9 with parameter 0.5 and value 2.5.\n",
      "Skipped 0 / 89 molecules in s9 with parameter 0.7 and value 3.5.\n",
      "Skipped 0 / 89 molecules in s9 with parameter 1.5 and value 7.5.\n",
      "Skipped 0 / 89 molecules in s9 with parameter 0.9 and value 4.5.\n"
     ]
    },
    {
     "name": "stderr",
     "output_type": "stream",
     "text": [
      " 68%|██████▊   | 17/25 [00:19<00:10,  1.27s/it]"
     ]
    },
    {
     "name": "stdout",
     "output_type": "stream",
     "text": [
      "Skipped 0 / 89 molecules in s9 with parameter 1.0 and value 5.0.\n",
      "Skipped 0 / 89 molecules in s9 with parameter 1.2 and value 6.0.\n",
      "Skipped 0 / 89 molecules in kdiff with parameter 0.6 and value 1.2.\n",
      "Skipped 0 / 89 molecules in kdiff with parameter 0.7 and value 1.4.\n",
      "Skipped 0 / 89 molecules in kdiff with parameter 1.5 and value 3.0.\n",
      "Skipped 0 / 89 molecules in kdiff with parameter 1.4 and value 2.8.\n",
      "Skipped 0 / 89 molecules in kdiff with parameter 0.5 and value 1.0.\n",
      "Skipped 0 / 89 molecules in kdiff with parameter 1.3 and value 2.6.\n",
      "Skipped 0 / 89 molecules in kdiff with parameter 0.8 and value 1.6.\n",
      "Skipped 0 / 89 molecules in kdiff with parameter 1.2 and value 2.4.\n",
      "Skipped 0 / 89 molecules in kdiff with parameter 0.9 and value 1.8.\n",
      "Skipped 0 / 89 molecules in kdiff with parameter 1.0 and value 2.0.\n"
     ]
    },
    {
     "name": "stderr",
     "output_type": "stream",
     "text": [
      " 72%|███████▏  | 18/25 [00:20<00:09,  1.32s/it]"
     ]
    },
    {
     "name": "stdout",
     "output_type": "stream",
     "text": [
      "Skipped 0 / 89 molecules in kdiff with parameter 1.1 and value 2.2.\n",
      "Skipped 0 / 89 molecules in aesrmax with parameter 1.1 and value 5.5.\n",
      "Skipped 0 / 89 molecules in aesrmax with parameter 1.4 and value 7.0.\n",
      "Skipped 0 / 89 molecules in aesrmax with parameter 0.8 and value 4.0.\n",
      "Skipped 0 / 89 molecules in aesrmax with parameter 1.3 and value 6.5.\n",
      "Skipped 0 / 89 molecules in aesrmax with parameter 0.6 and value 3.0.\n",
      "Skipped 0 / 89 molecules in aesrmax with parameter 0.5 and value 2.5.\n",
      "Skipped 0 / 89 molecules in aesrmax with parameter 0.7 and value 3.5.\n",
      "Skipped 0 / 89 molecules in aesrmax with parameter 1.5 and value 7.5.\n",
      "Skipped 0 / 89 molecules in aesrmax with parameter 0.9 and value 4.5.\n"
     ]
    },
    {
     "name": "stderr",
     "output_type": "stream",
     "text": [
      " 76%|███████▌  | 19/25 [00:21<00:08,  1.35s/it]"
     ]
    },
    {
     "name": "stdout",
     "output_type": "stream",
     "text": [
      "Skipped 0 / 89 molecules in aesrmax with parameter 1.0 and value 5.0.\n",
      "Skipped 0 / 89 molecules in aesrmax with parameter 1.2 and value 6.0.\n",
      "Skipped 0 / 89 molecules in aesdmp3 with parameter 1.5 and value 4.5.\n",
      "Skipped 0 / 89 molecules in aesdmp3 with parameter 0.8 and value 2.4.\n",
      "Skipped 0 / 89 molecules in aesdmp3 with parameter 1.2 and value 3.6.\n",
      "Skipped 0 / 89 molecules in aesdmp3 with parameter 1.1 and value 3.3.\n",
      "Skipped 0 / 89 molecules in aesdmp3 with parameter 0.6 and value 1.8.\n",
      "Skipped 0 / 89 molecules in aesdmp3 with parameter 1.3 and value 3.9.\n",
      "Skipped 0 / 89 molecules in aesdmp3 with parameter 0.5 and value 1.5.\n",
      "Skipped 0 / 89 molecules in aesdmp3 with parameter 1.4 and value 4.2.\n",
      "Skipped 0 / 89 molecules in aesdmp3 with parameter 0.7 and value 2.1.\n",
      "Skipped 0 / 89 molecules in aesdmp3 with parameter 0.9 and value 2.7.\n"
     ]
    },
    {
     "name": "stderr",
     "output_type": "stream",
     "text": [
      " 80%|████████  | 20/25 [00:23<00:06,  1.39s/it]"
     ]
    },
    {
     "name": "stdout",
     "output_type": "stream",
     "text": [
      "Skipped 0 / 89 molecules in aesdmp3 with parameter 1.0 and value 3.0.\n",
      "Skipped 0 / 89 molecules in enscale with parameter 0.6 and value 1.2.\n",
      "Skipped 0 / 89 molecules in enscale with parameter 0.7 and value 1.4.\n",
      "Skipped 0 / 89 molecules in enscale with parameter 1.5 and value 3.0.\n",
      "Skipped 0 / 89 molecules in enscale with parameter 1.4 and value 2.8.\n",
      "Skipped 0 / 89 molecules in enscale with parameter 0.5 and value 1.0.\n",
      "Skipped 0 / 89 molecules in enscale with parameter 1.3 and value 2.6.\n",
      "Skipped 0 / 89 molecules in enscale with parameter 0.8 and value 1.6.\n",
      "Skipped 0 / 89 molecules in enscale with parameter 1.2 and value 2.4.\n",
      "Skipped 0 / 89 molecules in enscale with parameter 0.9 and value 1.8.\n"
     ]
    },
    {
     "name": "stderr",
     "output_type": "stream",
     "text": [
      " 84%|████████▍ | 21/25 [00:24<00:05,  1.44s/it]"
     ]
    },
    {
     "name": "stdout",
     "output_type": "stream",
     "text": [
      "Skipped 0 / 89 molecules in enscale with parameter 1.0 and value 2.0.\n",
      "Skipped 0 / 89 molecules in enscale with parameter 1.1 and value 2.2.\n",
      "Skipped 0 / 89 molecules in a2 with parameter 1.1 and value 5.5.\n",
      "Skipped 0 / 89 molecules in a2 with parameter 1.4 and value 7.0.\n",
      "Skipped 0 / 89 molecules in a2 with parameter 0.8 and value 4.0.\n",
      "Skipped 0 / 89 molecules in a2 with parameter 1.3 and value 6.5.\n",
      "Skipped 0 / 89 molecules in a2 with parameter 0.6 and value 3.0.\n",
      "Skipped 0 / 89 molecules in a2 with parameter 0.5 and value 2.5.\n",
      "Skipped 0 / 89 molecules in a2 with parameter 0.7 and value 3.5.\n",
      "Skipped 0 / 89 molecules in a2 with parameter 1.5 and value 7.5.\n",
      "Skipped 0 / 89 molecules in a2 with parameter 0.9 and value 4.5.\n",
      "Skipped 0 / 89 molecules in a2 with parameter 1.0 and value 5.0.\n"
     ]
    },
    {
     "name": "stderr",
     "output_type": "stream",
     "text": [
      " 88%|████████▊ | 22/25 [00:26<00:04,  1.49s/it]"
     ]
    },
    {
     "name": "stdout",
     "output_type": "stream",
     "text": [
      "Skipped 0 / 89 molecules in a2 with parameter 1.2 and value 6.0.\n",
      "Skipped 0 / 89 molecules in kd with parameter 1.3 and value 2.899.\n",
      "Skipped 0 / 89 molecules in kd with parameter 0.7 and value 1.561.\n",
      "Skipped 0 / 89 molecules in kd with parameter 0.6 and value 1.338.\n",
      "Skipped 0 / 89 molecules in kd with parameter 1.5 and value 3.345.\n",
      "Skipped 0 / 89 molecules in kd with parameter 1.4 and value 3.122.\n",
      "Skipped 0 / 89 molecules in kd with parameter 1.2 and value 2.676.\n",
      "Skipped 0 / 89 molecules in kd with parameter 0.5 and value 1.115.\n",
      "Skipped 0 / 89 molecules in kd with parameter 1.1 and value 2.453.\n",
      "Skipped 0 / 89 molecules in kd with parameter 0.8 and value 1.784.\n"
     ]
    },
    {
     "name": "stderr",
     "output_type": "stream",
     "text": [
      " 92%|█████████▏| 23/25 [00:28<00:03,  1.53s/it]"
     ]
    },
    {
     "name": "stdout",
     "output_type": "stream",
     "text": [
      "Skipped 0 / 89 molecules in kd with parameter 0.9 and value 2.007.\n",
      "Skipped 0 / 89 molecules in kd with parameter 1.0 and value 2.23.\n",
      "Skipped 0 / 89 molecules in ksd with parameter 0.6 and value 1.2.\n",
      "Skipped 0 / 89 molecules in ksd with parameter 0.7 and value 1.4.\n",
      "Skipped 0 / 89 molecules in ksd with parameter 1.5 and value 3.0.\n",
      "Skipped 0 / 89 molecules in ksd with parameter 1.4 and value 2.8.\n",
      "Skipped 0 / 89 molecules in ksd with parameter 0.5 and value 1.0.\n",
      "Skipped 0 / 89 molecules in ksd with parameter 1.3 and value 2.6.\n",
      "Skipped 0 / 89 molecules in ksd with parameter 0.8 and value 1.6.\n",
      "Skipped 0 / 89 molecules in ksd with parameter 1.2 and value 2.4.\n",
      "Skipped 0 / 89 molecules in ksd with parameter 0.9 and value 1.8.\n",
      "Skipped 0 / 89 molecules in ksd with parameter 1.0 and value 2.0.\n"
     ]
    },
    {
     "name": "stderr",
     "output_type": "stream",
     "text": [
      "100%|██████████| 25/25 [00:29<00:00,  1.19s/it]"
     ]
    },
    {
     "name": "stdout",
     "output_type": "stream",
     "text": [
      "Skipped 0 / 89 molecules in ksd with parameter 1.1 and value 2.2.\n"
     ]
    },
    {
     "name": "stderr",
     "output_type": "stream",
     "text": [
      "\n"
     ]
    }
   ],
   "source": [
    "results_df = pd.DataFrame(\n",
    "    columns=[\n",
    "        \"molecule\",\n",
    "        \"parameter\",\n",
    "        \"factor\",\n",
    "        \"parameter value\",\n",
    "        \"atomisation energy (Hartrees)\",\n",
    "        \"atomisation energy (kcal/mol)\",\n",
    "        \"total energy (Hartrees)\",\n",
    "        \"total energy (kcal/mol)\",\n",
    "        # \"pairwise distance\",\n",
    "        # \"atoms\",\n",
    "        \"max atomic force\",\n",
    "    ]\n",
    ")\n",
    "\n",
    "for parameter_path in tqdm(\n",
    "    experiments_path.glob(\"*\"), total=len(list(experiments_path.glob(\"*\")))\n",
    "):\n",
    "    for run_path in parameter_path.glob(\"*\"):\n",
    "        parameter_factor, parameter_value = run_path.name.split(\"_\")\n",
    "        num_skipped = 0\n",
    "        for molecule in run_path.glob(\"*\"):\n",
    "            if not molecule.is_dir():\n",
    "                continue\n",
    "\n",
    "            # Atomisation energy\n",
    "            with open(molecule / \"stdout.txt\") as f:\n",
    "                output_file = f.readlines()\n",
    "            total_energy, atomisation_energy = None, None\n",
    "            for line in output_file:\n",
    "                if total_energy is not None and atomisation_energy is not None:\n",
    "                    break\n",
    "                elif \"total energy\" in line:\n",
    "                    total_energy = float(re.sub(r\"[^\\d.]\", \"\", line))\n",
    "                elif \"atomisation energy\" in line:\n",
    "                    atomisation_energy = float(re.sub(r\"[^\\d.]\", \"\", line))\n",
    "\n",
    "            # Geometry\n",
    "            pairwise_distances_arr = None\n",
    "            if (molecule / \"xtbopt.xyz\").exists():\n",
    "                geometry_arr, atoms = xyz_to_np(molecule / \"xtbopt.xyz\")\n",
    "                pairwise_distances_arr = pairwise_distance(geometry_arr)\n",
    "\n",
    "            # Force\n",
    "            if (molecule / f\"{molecule.stem}.engrad\").exists():\n",
    "                _, _, _, atomic_forces = read_energy_gradient(\n",
    "                    molecule / f\"{molecule.stem}.engrad\"\n",
    "                )\n",
    "\n",
    "            if (\n",
    "                atomisation_energy is None\n",
    "                or total_energy is None\n",
    "                # or pairwise_distances_arr is None\n",
    "                or atomic_forces is None\n",
    "            ):\n",
    "                num_skipped += 1\n",
    "                continue\n",
    "\n",
    "            results_df.loc[len(results_df)] = [\n",
    "                molecule.name,\n",
    "                parameter_path.name,\n",
    "                parameter_factor,\n",
    "                parameter_value,\n",
    "                atomisation_energy,\n",
    "                atomisation_energy * HARTREE_TO_KCAL_MOL,\n",
    "                total_energy,\n",
    "                total_energy * HARTREE_TO_KCAL_MOL,\n",
    "                # json.dumps(pairwise_distances_arr.tolist()),\n",
    "                # atoms,\n",
    "                np.max(np.abs(atomic_forces)),\n",
    "            ]\n",
    "        print(\n",
    "            f\"Skipped {num_skipped} / {len(list(run_path.glob('*')))} molecules in {parameter_path.name} with parameter {parameter_factor} and value {parameter_value}.\"\n",
    "        )"
   ]
  },
  {
   "cell_type": "code",
   "execution_count": 4,
   "metadata": {},
   "outputs": [],
   "source": [
    "# to pickle\n",
    "results_df.to_csv(processed_results_path / \"parsed_results.csv\", index=False)"
   ]
  },
  {
   "cell_type": "markdown",
   "metadata": {},
   "source": [
    "### Add VQM24 Reference"
   ]
  },
  {
   "cell_type": "code",
   "execution_count": 5,
   "metadata": {},
   "outputs": [],
   "source": [
    "results_df = pd.read_csv(processed_results_path / \"parsed_results.csv\")\n",
    "\n",
    "# results_df[\"pairwise distance\"] = results_df[\"pairwise distance\"].apply(lambda x: np.array(json.loads(x)))\n",
    "\n",
    "reference_data = np.load(\"reference_data/DFT_uniques.npz\", allow_pickle=True)"
   ]
  },
  {
   "cell_type": "code",
   "execution_count": 6,
   "metadata": {},
   "outputs": [
    {
     "name": "stdout",
     "output_type": "stream",
     "text": [
      "        molecule parameter  factor  parameter value  \\\n",
      "0  FNxOSiSxH2_82    gam3d2     1.5            0.375   \n",
      "1   CNPSi2H4_113    gam3d2     1.5            0.375   \n",
      "2   COPx2SyH4_72    gam3d2     1.5            0.375   \n",
      "3     CN2PSH1_54    gam3d2     1.5            0.375   \n",
      "4  C2SiSx2H8_221    gam3d2     1.5            0.375   \n",
      "\n",
      "   atomisation energy (Hartrees)  atomisation energy (kcal/mol)  \\\n",
      "0                       1.360410                     853.669459   \n",
      "1                       2.177525                    1366.416468   \n",
      "2                       1.824700                    1145.015747   \n",
      "3                       1.767131                    1108.890316   \n",
      "4                       2.089762                    1311.344399   \n",
      "\n",
      "   total energy (Hartrees)  total energy (kcal/mol)  max atomic force  \n",
      "0                17.632961             11064.841710          0.019270  \n",
      "1                12.990552              8151.688164          0.041210  \n",
      "2                16.395235             10288.157496          0.063239  \n",
      "3                14.221133              8923.888776          0.074708  \n",
      "4                16.199616             10165.404942          0.195071  \n"
     ]
    }
   ],
   "source": [
    "print(results_df.head())"
   ]
  },
  {
   "cell_type": "code",
   "execution_count": 7,
   "metadata": {},
   "outputs": [
    {
     "name": "stderr",
     "output_type": "stream",
     "text": [
      "Adding VQM24 data: 100%|██████████| 88/88 [00:07<00:00, 11.35it/s]\n"
     ]
    }
   ],
   "source": [
    "results_df[\"VQM24 atomisation energy (Hartrees)\"] = None\n",
    "results_df[\"VQM24 atomisation energy (kcal/mol)\"] = None\n",
    "results_df[\"VQM24 total energy (Hartrees)\"] = None\n",
    "results_df[\"VQM24 total energy (kcal/mol)\"] = None\n",
    "\n",
    "results_df[\"VQM24 pairwise distance\"] = None\n",
    "\n",
    "for molecule in tqdm(\n",
    "    results_df[\"molecule\"].unique(),\n",
    "    total=len(results_df[\"molecule\"].unique()),\n",
    "    desc=\"Adding VQM24 data\",\n",
    "):\n",
    "    # reference compounds use SMIELS_num/conformer_num\n",
    "    # results compounds use SMIELS_num_conformer_num\n",
    "    vqm24_molecule = molecule.replace(\"_\", \"/\", 2)\n",
    "    vqm24_molecule = vqm24_molecule.replace(\"/\", \"_\", 1)\n",
    "\n",
    "    reference_index = np.where(reference_data[\"compounds\"] == vqm24_molecule)\n",
    "\n",
    "    # VQM24 energies are flipped\n",
    "    reference_atomization_energy = -reference_data[\"Eatomization\"][\n",
    "        reference_index\n",
    "    ].item()\n",
    "    reference_total_energy = -reference_data[\"Etot\"][reference_index].item()\n",
    "\n",
    "    results_df.loc[\n",
    "        results_df[\"molecule\"] == molecule, \"VQM24 atomisation energy (Hartrees)\"\n",
    "    ] = reference_atomization_energy\n",
    "    results_df.loc[\n",
    "        results_df[\"molecule\"] == molecule, \"VQM24 atomisation energy (kcal/mol)\"\n",
    "    ] = (reference_atomization_energy * HARTREE_TO_KCAL_MOL)\n",
    "\n",
    "    results_df.loc[\n",
    "        results_df[\"molecule\"] == molecule, \"VQM24 total energy (Hartrees)\"\n",
    "    ] = (reference_total_energy / HARTREE_TO_KCAL_MOL)\n",
    "    results_df.loc[\n",
    "        results_df[\"molecule\"] == molecule, \"VQM24 total energy (kcal/mol)\"\n",
    "    ] = reference_total_energy\n",
    "\n",
    "    # Geometries\n",
    "    xyz_df = molecules_path / f\"{molecule}.xyz\"\n",
    "    pairwise_distances_arr = pairwise_distance(xyz_to_np(xyz_df)[0])\n",
    "\n",
    "    mask = results_df[\"molecule\"] == molecule\n",
    "\n",
    "#     results_df.loc[mask, \"VQM24 pairwise distance\"] = [\n",
    "#         json.dumps(pairwise_distances_arr.tolist())\n",
    "#     ] * mask.sum()\n",
    "\n",
    "\n",
    "# results_df[\"VQM24 pairwise distance\"] = results_df[\"VQM24 pairwise distance\"].apply(\n",
    "#     lambda x: np.array(json.loads(x))\n",
    "# )\n",
    "\n",
    "results_df[\"Atomization Energy MAE (Hartrees)\"] = abs(\n",
    "    results_df[\"atomisation energy (Hartrees)\"]\n",
    "    - results_df[\"VQM24 atomisation energy (Hartrees)\"]\n",
    ")\n",
    "results_df[\"Atomization Energy MAE (kcal/mol)\"] = abs(\n",
    "    results_df[\"atomisation energy (kcal/mol)\"]\n",
    "    - results_df[\"VQM24 atomisation energy (kcal/mol)\"]\n",
    ")\n",
    "\n",
    "results_df[\"Total Energy MAE (Hartrees)\"] = abs(\n",
    "    results_df[\"total energy (Hartrees)\"] - results_df[\"VQM24 total energy (Hartrees)\"]\n",
    ")\n",
    "results_df[\"Total Energy MAE (kcal/mol)\"] = abs(\n",
    "    results_df[\"total energy (kcal/mol)\"] - results_df[\"VQM24 total energy (kcal/mol)\"]\n",
    ")\n",
    "\n",
    "# results_df[\"Pairwise Distance MAE\"] = results_df.apply(\n",
    "#     lambda row: average_abs_dist(\n",
    "#         row[\"pairwise distance\"], row[\"VQM24 pairwise distance\"]\n",
    "#     ),\n",
    "#     axis=1,\n",
    "# )\n",
    "\n",
    "# results_df[\"Pairwise Distance Frobenius Norm\"] = results_df.apply(\n",
    "#     lambda row: np.linalg.norm(\n",
    "#         row[\"pairwise distance\"] - row[\"VQM24 pairwise distance\"]\n",
    "#     ),\n",
    "#     axis=1,\n",
    "# )"
   ]
  },
  {
   "cell_type": "code",
   "execution_count": 8,
   "metadata": {},
   "outputs": [
    {
     "data": {
      "text/html": [
       "<div>\n",
       "<style scoped>\n",
       "    .dataframe tbody tr th:only-of-type {\n",
       "        vertical-align: middle;\n",
       "    }\n",
       "\n",
       "    .dataframe tbody tr th {\n",
       "        vertical-align: top;\n",
       "    }\n",
       "\n",
       "    .dataframe thead th {\n",
       "        text-align: right;\n",
       "    }\n",
       "</style>\n",
       "<table border=\"1\" class=\"dataframe\">\n",
       "  <thead>\n",
       "    <tr style=\"text-align: right;\">\n",
       "      <th></th>\n",
       "      <th>molecule</th>\n",
       "      <th>parameter</th>\n",
       "      <th>factor</th>\n",
       "      <th>parameter value</th>\n",
       "      <th>atomisation energy (Hartrees)</th>\n",
       "      <th>atomisation energy (kcal/mol)</th>\n",
       "      <th>total energy (Hartrees)</th>\n",
       "      <th>total energy (kcal/mol)</th>\n",
       "      <th>max atomic force</th>\n",
       "      <th>VQM24 atomisation energy (Hartrees)</th>\n",
       "      <th>VQM24 atomisation energy (kcal/mol)</th>\n",
       "      <th>VQM24 total energy (Hartrees)</th>\n",
       "      <th>VQM24 total energy (kcal/mol)</th>\n",
       "      <th>VQM24 pairwise distance</th>\n",
       "      <th>Atomization Energy MAE (Hartrees)</th>\n",
       "      <th>Atomization Energy MAE (kcal/mol)</th>\n",
       "      <th>Total Energy MAE (Hartrees)</th>\n",
       "      <th>Total Energy MAE (kcal/mol)</th>\n",
       "    </tr>\n",
       "  </thead>\n",
       "  <tbody>\n",
       "    <tr>\n",
       "      <th>0</th>\n",
       "      <td>FNxOSiSxH2_82</td>\n",
       "      <td>gam3d2</td>\n",
       "      <td>1.5</td>\n",
       "      <td>0.375</td>\n",
       "      <td>1.360410</td>\n",
       "      <td>853.669459</td>\n",
       "      <td>17.632961</td>\n",
       "      <td>11064.841710</td>\n",
       "      <td>0.019270</td>\n",
       "      <td>0.866469</td>\n",
       "      <td>543.716929</td>\n",
       "      <td>1.463972</td>\n",
       "      <td>918.655654</td>\n",
       "      <td>None</td>\n",
       "      <td>0.493941</td>\n",
       "      <td>309.95253</td>\n",
       "      <td>16.168989</td>\n",
       "      <td>10146.186056</td>\n",
       "    </tr>\n",
       "    <tr>\n",
       "      <th>1</th>\n",
       "      <td>CNPSi2H4_113</td>\n",
       "      <td>gam3d2</td>\n",
       "      <td>1.5</td>\n",
       "      <td>0.375</td>\n",
       "      <td>2.177525</td>\n",
       "      <td>1366.416468</td>\n",
       "      <td>12.990552</td>\n",
       "      <td>8151.688164</td>\n",
       "      <td>0.041210</td>\n",
       "      <td>1.135908</td>\n",
       "      <td>712.792304</td>\n",
       "      <td>1.618339</td>\n",
       "      <td>1015.522367</td>\n",
       "      <td>None</td>\n",
       "      <td>1.041617</td>\n",
       "      <td>653.624164</td>\n",
       "      <td>11.372213</td>\n",
       "      <td>7136.165797</td>\n",
       "    </tr>\n",
       "    <tr>\n",
       "      <th>2</th>\n",
       "      <td>COPx2SyH4_72</td>\n",
       "      <td>gam3d2</td>\n",
       "      <td>1.5</td>\n",
       "      <td>0.375</td>\n",
       "      <td>1.824700</td>\n",
       "      <td>1145.015747</td>\n",
       "      <td>16.395235</td>\n",
       "      <td>10288.157496</td>\n",
       "      <td>0.063239</td>\n",
       "      <td>0.95014</td>\n",
       "      <td>596.221114</td>\n",
       "      <td>1.906659</td>\n",
       "      <td>1196.44547</td>\n",
       "      <td>None</td>\n",
       "      <td>0.874561</td>\n",
       "      <td>548.794634</td>\n",
       "      <td>14.488576</td>\n",
       "      <td>9091.712026</td>\n",
       "    </tr>\n",
       "    <tr>\n",
       "      <th>3</th>\n",
       "      <td>CN2PSH1_54</td>\n",
       "      <td>gam3d2</td>\n",
       "      <td>1.5</td>\n",
       "      <td>0.375</td>\n",
       "      <td>1.767131</td>\n",
       "      <td>1108.890316</td>\n",
       "      <td>14.221133</td>\n",
       "      <td>8923.888776</td>\n",
       "      <td>0.074708</td>\n",
       "      <td>0.847112</td>\n",
       "      <td>531.570446</td>\n",
       "      <td>1.414629</td>\n",
       "      <td>887.692235</td>\n",
       "      <td>None</td>\n",
       "      <td>0.920018</td>\n",
       "      <td>577.31987</td>\n",
       "      <td>12.806504</td>\n",
       "      <td>8036.196541</td>\n",
       "    </tr>\n",
       "    <tr>\n",
       "      <th>4</th>\n",
       "      <td>C2SiSx2H8_221</td>\n",
       "      <td>gam3d2</td>\n",
       "      <td>1.5</td>\n",
       "      <td>0.375</td>\n",
       "      <td>2.089762</td>\n",
       "      <td>1311.344399</td>\n",
       "      <td>16.199616</td>\n",
       "      <td>10165.404942</td>\n",
       "      <td>0.195071</td>\n",
       "      <td>1.495457</td>\n",
       "      <td>938.412543</td>\n",
       "      <td>1.859328</td>\n",
       "      <td>1166.744879</td>\n",
       "      <td>None</td>\n",
       "      <td>0.594305</td>\n",
       "      <td>372.931857</td>\n",
       "      <td>14.340288</td>\n",
       "      <td>8998.660063</td>\n",
       "    </tr>\n",
       "  </tbody>\n",
       "</table>\n",
       "</div>"
      ],
      "text/plain": [
       "        molecule parameter  factor  parameter value  \\\n",
       "0  FNxOSiSxH2_82    gam3d2     1.5            0.375   \n",
       "1   CNPSi2H4_113    gam3d2     1.5            0.375   \n",
       "2   COPx2SyH4_72    gam3d2     1.5            0.375   \n",
       "3     CN2PSH1_54    gam3d2     1.5            0.375   \n",
       "4  C2SiSx2H8_221    gam3d2     1.5            0.375   \n",
       "\n",
       "   atomisation energy (Hartrees)  atomisation energy (kcal/mol)  \\\n",
       "0                       1.360410                     853.669459   \n",
       "1                       2.177525                    1366.416468   \n",
       "2                       1.824700                    1145.015747   \n",
       "3                       1.767131                    1108.890316   \n",
       "4                       2.089762                    1311.344399   \n",
       "\n",
       "   total energy (Hartrees)  total energy (kcal/mol)  max atomic force  \\\n",
       "0                17.632961             11064.841710          0.019270   \n",
       "1                12.990552              8151.688164          0.041210   \n",
       "2                16.395235             10288.157496          0.063239   \n",
       "3                14.221133              8923.888776          0.074708   \n",
       "4                16.199616             10165.404942          0.195071   \n",
       "\n",
       "  VQM24 atomisation energy (Hartrees) VQM24 atomisation energy (kcal/mol)  \\\n",
       "0                            0.866469                          543.716929   \n",
       "1                            1.135908                          712.792304   \n",
       "2                             0.95014                          596.221114   \n",
       "3                            0.847112                          531.570446   \n",
       "4                            1.495457                          938.412543   \n",
       "\n",
       "  VQM24 total energy (Hartrees) VQM24 total energy (kcal/mol)  \\\n",
       "0                      1.463972                    918.655654   \n",
       "1                      1.618339                   1015.522367   \n",
       "2                      1.906659                    1196.44547   \n",
       "3                      1.414629                    887.692235   \n",
       "4                      1.859328                   1166.744879   \n",
       "\n",
       "  VQM24 pairwise distance Atomization Energy MAE (Hartrees)  \\\n",
       "0                    None                          0.493941   \n",
       "1                    None                          1.041617   \n",
       "2                    None                          0.874561   \n",
       "3                    None                          0.920018   \n",
       "4                    None                          0.594305   \n",
       "\n",
       "  Atomization Energy MAE (kcal/mol) Total Energy MAE (Hartrees)  \\\n",
       "0                         309.95253                   16.168989   \n",
       "1                        653.624164                   11.372213   \n",
       "2                        548.794634                   14.488576   \n",
       "3                         577.31987                   12.806504   \n",
       "4                        372.931857                   14.340288   \n",
       "\n",
       "  Total Energy MAE (kcal/mol)  \n",
       "0                10146.186056  \n",
       "1                 7136.165797  \n",
       "2                 9091.712026  \n",
       "3                 8036.196541  \n",
       "4                 8998.660063  "
      ]
     },
     "execution_count": 8,
     "metadata": {},
     "output_type": "execute_result"
    }
   ],
   "source": [
    "results_df.head()"
   ]
  },
  {
   "cell_type": "code",
   "execution_count": 9,
   "metadata": {},
   "outputs": [],
   "source": [
    "results_df.to_csv(processed_results_path / \"with_reference_results.csv\", index=False)"
   ]
  },
  {
   "cell_type": "markdown",
   "metadata": {},
   "source": [
    "## Aggregate Results"
   ]
  },
  {
   "cell_type": "code",
   "execution_count": 10,
   "metadata": {},
   "outputs": [],
   "source": [
    "results_df = pd.read_csv(processed_results_path / \"with_reference_results.csv\")"
   ]
  },
  {
   "cell_type": "code",
   "execution_count": 11,
   "metadata": {},
   "outputs": [
    {
     "data": {
      "text/html": [
       "<div>\n",
       "<style scoped>\n",
       "    .dataframe tbody tr th:only-of-type {\n",
       "        vertical-align: middle;\n",
       "    }\n",
       "\n",
       "    .dataframe tbody tr th {\n",
       "        vertical-align: top;\n",
       "    }\n",
       "\n",
       "    .dataframe thead th {\n",
       "        text-align: right;\n",
       "    }\n",
       "</style>\n",
       "<table border=\"1\" class=\"dataframe\">\n",
       "  <thead>\n",
       "    <tr style=\"text-align: right;\">\n",
       "      <th></th>\n",
       "      <th>parameter</th>\n",
       "      <th>factor</th>\n",
       "      <th>parameter value</th>\n",
       "      <th>Atomization Energy MAE (kcal/mol)</th>\n",
       "      <th>Total Energy MAE (kcal/mol)</th>\n",
       "      <th>max atomic force</th>\n",
       "    </tr>\n",
       "  </thead>\n",
       "  <tbody>\n",
       "    <tr>\n",
       "      <th>0</th>\n",
       "      <td>a1</td>\n",
       "      <td>0.5</td>\n",
       "      <td>0.260</td>\n",
       "      <td>450.637106</td>\n",
       "      <td>8436.561915</td>\n",
       "      <td>0.101604</td>\n",
       "    </tr>\n",
       "    <tr>\n",
       "      <th>1</th>\n",
       "      <td>a1</td>\n",
       "      <td>0.6</td>\n",
       "      <td>0.312</td>\n",
       "      <td>444.679268</td>\n",
       "      <td>8430.539782</td>\n",
       "      <td>0.101724</td>\n",
       "    </tr>\n",
       "    <tr>\n",
       "      <th>2</th>\n",
       "      <td>a1</td>\n",
       "      <td>0.7</td>\n",
       "      <td>0.364</td>\n",
       "      <td>440.632064</td>\n",
       "      <td>8426.327666</td>\n",
       "      <td>0.101787</td>\n",
       "    </tr>\n",
       "    <tr>\n",
       "      <th>3</th>\n",
       "      <td>a1</td>\n",
       "      <td>0.8</td>\n",
       "      <td>0.416</td>\n",
       "      <td>437.757067</td>\n",
       "      <td>8423.336414</td>\n",
       "      <td>0.101818</td>\n",
       "    </tr>\n",
       "    <tr>\n",
       "      <th>4</th>\n",
       "      <td>a1</td>\n",
       "      <td>0.9</td>\n",
       "      <td>0.468</td>\n",
       "      <td>435.704153</td>\n",
       "      <td>8421.181523</td>\n",
       "      <td>0.101833</td>\n",
       "    </tr>\n",
       "  </tbody>\n",
       "</table>\n",
       "</div>"
      ],
      "text/plain": [
       "  parameter  factor  parameter value  Atomization Energy MAE (kcal/mol)  \\\n",
       "0        a1     0.5            0.260                         450.637106   \n",
       "1        a1     0.6            0.312                         444.679268   \n",
       "2        a1     0.7            0.364                         440.632064   \n",
       "3        a1     0.8            0.416                         437.757067   \n",
       "4        a1     0.9            0.468                         435.704153   \n",
       "\n",
       "   Total Energy MAE (kcal/mol)  max atomic force  \n",
       "0                  8436.561915          0.101604  \n",
       "1                  8430.539782          0.101724  \n",
       "2                  8426.327666          0.101787  \n",
       "3                  8423.336414          0.101818  \n",
       "4                  8421.181523          0.101833  "
      ]
     },
     "execution_count": 11,
     "metadata": {},
     "output_type": "execute_result"
    }
   ],
   "source": [
    "aggregated_results = (\n",
    "    results_df.groupby([\"parameter\", \"factor\", \"parameter value\"])[\n",
    "        [\n",
    "            \"Atomization Energy MAE (kcal/mol)\",\n",
    "            \"Total Energy MAE (kcal/mol)\",\n",
    "            # \"Pairwise Distance MAE\",\n",
    "            # \"Pairwise Distance Frobenius Norm\",\n",
    "            \"max atomic force\",\n",
    "        ]\n",
    "    ]\n",
    "    .mean()\n",
    "    .reset_index()\n",
    ")\n",
    "aggregated_results.head()"
   ]
  },
  {
   "cell_type": "code",
   "execution_count": 12,
   "metadata": {},
   "outputs": [],
   "source": [
    "aggregated_results.to_csv(\n",
    "    processed_results_path / \"aggregated_results.csv\", index=False\n",
    ")"
   ]
  }
 ],
 "metadata": {
  "kernelspec": {
   "display_name": "xtb",
   "language": "python",
   "name": "python3"
  },
  "language_info": {
   "codemirror_mode": {
    "name": "ipython",
    "version": 3
   },
   "file_extension": ".py",
   "mimetype": "text/x-python",
   "name": "python",
   "nbconvert_exporter": "python",
   "pygments_lexer": "ipython3",
   "version": "3.9.22"
  }
 },
 "nbformat": 4,
 "nbformat_minor": 2
}
